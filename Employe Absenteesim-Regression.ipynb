{
 "cells": [
  {
   "cell_type": "markdown",
   "metadata": {},
   "source": [
    "# 1. Introduction"
   ]
  },
  {
   "cell_type": "markdown",
   "metadata": {},
   "source": [
    "## 1.1 Problem Description"
   ]
  },
  {
   "cell_type": "markdown",
   "metadata": {},
   "source": [
    "XYZ is a courier company. As we appreciate that human capital plays an important role in collection, transportation and delivery. The company is passing through genuine issue of Absenteeism. The company has shared it dataset and requested to have an answer on the following areas:\n",
    "\n",
    " **1** . What changes company should bring to reduce the number of absenteeism? <br>\n",
    " **2** . How much losses every month can we project in 2011 if same trend of absenteeism continues? <br>"
   ]
  },
  {
   "cell_type": "markdown",
   "metadata": {},
   "source": [
    "## 1.2 Data"
   ]
  },
  {
   "cell_type": "markdown",
   "metadata": {},
   "source": [
    "Our task is to build a regression model which will predict the absentieesm in hours based on the employee attributes and information. Although, the problem statement is a Multivariate Time-Series Problem. We will approach it as a Regression Problem."
   ]
  },
  {
   "cell_type": "markdown",
   "metadata": {},
   "source": [
    "## 1.3 Performance Metric"
   ]
  },
  {
   "cell_type": "markdown",
   "metadata": {},
   "source": [
    "**RMSE :** <br>\n",
    "<br>\n",
    "Root Mean Square Error (RMSE) is the standard deviation of the residuals (prediction errors). Residuals are a measure of how far from the regression line data points are, RMSE is a measure of how spread out these residuals are. In other words, it tells you how concentrated the data is around the line of best fit. <br>\n",
    "<br>\n",
    "Also, Since the errors are squared before they are averaged, the RMSE gives a relatively high weight to large errors. So, RMSE are more useful when large errors are particularly undesirable."
   ]
  },
  {
   "cell_type": "markdown",
   "metadata": {},
   "source": [
    "# 2. Exploratory Data Analysis"
   ]
  },
  {
   "cell_type": "code",
   "execution_count": 1,
   "metadata": {
    "collapsed": true
   },
   "outputs": [],
   "source": [
    "import os\n",
    "os.chdir(\"/Users/akash/Desktop/Project 2 -Employe Absenteism\")"
   ]
  },
  {
   "cell_type": "code",
   "execution_count": 2,
   "metadata": {},
   "outputs": [
    {
     "name": "stderr",
     "output_type": "stream",
     "text": [
      "/Users/akash/anaconda3/lib/python3.6/site-packages/sklearn/cross_validation.py:41: DeprecationWarning: This module was deprecated in version 0.18 in favor of the model_selection module into which all the refactored classes and functions are moved. Also note that the interface of the new CV iterators are different from that of this module. This module will be removed in 0.20.\n",
      "  \"This module will be removed in 0.20.\", DeprecationWarning)\n",
      "/Users/akash/anaconda3/lib/python3.6/site-packages/h5py/__init__.py:34: FutureWarning: Conversion of the second argument of issubdtype from `float` to `np.floating` is deprecated. In future, it will be treated as `np.float64 == np.dtype(float).type`.\n",
      "  from ._conv import register_converters as _register_converters\n",
      "Using TensorFlow backend.\n"
     ]
    }
   ],
   "source": [
    "import pandas as pd\n",
    "import numpy as np\n",
    "import matplotlib.pyplot as plt\n",
    "import seaborn as sns\n",
    "from sklearn.decomposition import TruncatedSVD\n",
    "from sklearn.preprocessing import normalize\n",
    "from sklearn.manifold import TSNE\n",
    "from sklearn.metrics import confusion_matrix\n",
    "from sklearn.metrics.classification import accuracy_score, log_loss\n",
    "from collections import Counter\n",
    "from scipy.sparse import hstack\n",
    "from sklearn.svm import SVC\n",
    "from sklearn.cross_validation import StratifiedKFold \n",
    "from sklearn.model_selection import train_test_split\n",
    "import math\n",
    "from sklearn.metrics import normalized_mutual_info_score\n",
    "from sklearn.ensemble import RandomForestClassifier\n",
    "\n",
    "from sklearn.preprocessing import StandardScaler\n",
    "\n",
    "from sklearn import model_selection\n",
    "\n",
    "from sklearn.feature_selection import chi2\n",
    "from sklearn.feature_selection import SelectKBest, SelectPercentile\n",
    "from sklearn.preprocessing import StandardScaler\n",
    "from sklearn.ensemble import RandomForestClassifier\n",
    "from sklearn.tree import DecisionTreeClassifier\n",
    "from sklearn.feature_selection import SelectFromModel\n",
    "from sklearn.model_selection import KFold, cross_val_score\n",
    "from fancyimpute import KNN \n"
   ]
  },
  {
   "cell_type": "markdown",
   "metadata": {},
   "source": [
    "## 2.1 Reading Data"
   ]
  },
  {
   "cell_type": "code",
   "execution_count": 3,
   "metadata": {
    "collapsed": true
   },
   "outputs": [],
   "source": [
    "data = pd.read_excel(\"Absenteeism_at_work_Project.xls\")"
   ]
  },
  {
   "cell_type": "code",
   "execution_count": 4,
   "metadata": {
    "collapsed": true
   },
   "outputs": [],
   "source": [
    "pd.set_option('display.max_columns', None)"
   ]
  },
  {
   "cell_type": "code",
   "execution_count": 5,
   "metadata": {},
   "outputs": [
    {
     "data": {
      "text/html": [
       "<div>\n",
       "<style scoped>\n",
       "    .dataframe tbody tr th:only-of-type {\n",
       "        vertical-align: middle;\n",
       "    }\n",
       "\n",
       "    .dataframe tbody tr th {\n",
       "        vertical-align: top;\n",
       "    }\n",
       "\n",
       "    .dataframe thead th {\n",
       "        text-align: right;\n",
       "    }\n",
       "</style>\n",
       "<table border=\"1\" class=\"dataframe\">\n",
       "  <thead>\n",
       "    <tr style=\"text-align: right;\">\n",
       "      <th></th>\n",
       "      <th>ID</th>\n",
       "      <th>Reason for absence</th>\n",
       "      <th>Month of absence</th>\n",
       "      <th>Day of the week</th>\n",
       "      <th>Seasons</th>\n",
       "      <th>Transportation expense</th>\n",
       "      <th>Distance from Residence to Work</th>\n",
       "      <th>Service time</th>\n",
       "      <th>Age</th>\n",
       "      <th>Work load Average/day</th>\n",
       "      <th>Hit target</th>\n",
       "      <th>Disciplinary failure</th>\n",
       "      <th>Education</th>\n",
       "      <th>Son</th>\n",
       "      <th>Social drinker</th>\n",
       "      <th>Social smoker</th>\n",
       "      <th>Pet</th>\n",
       "      <th>Weight</th>\n",
       "      <th>Height</th>\n",
       "      <th>Body mass index</th>\n",
       "      <th>Absenteeism time in hours</th>\n",
       "    </tr>\n",
       "  </thead>\n",
       "  <tbody>\n",
       "    <tr>\n",
       "      <th>0</th>\n",
       "      <td>11</td>\n",
       "      <td>26.0</td>\n",
       "      <td>7.0</td>\n",
       "      <td>3</td>\n",
       "      <td>1</td>\n",
       "      <td>289.0</td>\n",
       "      <td>36.0</td>\n",
       "      <td>13.0</td>\n",
       "      <td>33.0</td>\n",
       "      <td>239554.0</td>\n",
       "      <td>97.0</td>\n",
       "      <td>0.0</td>\n",
       "      <td>1.0</td>\n",
       "      <td>2.0</td>\n",
       "      <td>1.0</td>\n",
       "      <td>0.0</td>\n",
       "      <td>1.0</td>\n",
       "      <td>90.0</td>\n",
       "      <td>172.0</td>\n",
       "      <td>30.0</td>\n",
       "      <td>4.0</td>\n",
       "    </tr>\n",
       "    <tr>\n",
       "      <th>1</th>\n",
       "      <td>36</td>\n",
       "      <td>0.0</td>\n",
       "      <td>7.0</td>\n",
       "      <td>3</td>\n",
       "      <td>1</td>\n",
       "      <td>118.0</td>\n",
       "      <td>13.0</td>\n",
       "      <td>18.0</td>\n",
       "      <td>50.0</td>\n",
       "      <td>239554.0</td>\n",
       "      <td>97.0</td>\n",
       "      <td>1.0</td>\n",
       "      <td>1.0</td>\n",
       "      <td>1.0</td>\n",
       "      <td>1.0</td>\n",
       "      <td>0.0</td>\n",
       "      <td>0.0</td>\n",
       "      <td>98.0</td>\n",
       "      <td>178.0</td>\n",
       "      <td>31.0</td>\n",
       "      <td>0.0</td>\n",
       "    </tr>\n",
       "    <tr>\n",
       "      <th>2</th>\n",
       "      <td>3</td>\n",
       "      <td>23.0</td>\n",
       "      <td>7.0</td>\n",
       "      <td>4</td>\n",
       "      <td>1</td>\n",
       "      <td>179.0</td>\n",
       "      <td>51.0</td>\n",
       "      <td>18.0</td>\n",
       "      <td>38.0</td>\n",
       "      <td>239554.0</td>\n",
       "      <td>97.0</td>\n",
       "      <td>0.0</td>\n",
       "      <td>1.0</td>\n",
       "      <td>0.0</td>\n",
       "      <td>1.0</td>\n",
       "      <td>0.0</td>\n",
       "      <td>0.0</td>\n",
       "      <td>89.0</td>\n",
       "      <td>170.0</td>\n",
       "      <td>31.0</td>\n",
       "      <td>2.0</td>\n",
       "    </tr>\n",
       "    <tr>\n",
       "      <th>3</th>\n",
       "      <td>7</td>\n",
       "      <td>7.0</td>\n",
       "      <td>7.0</td>\n",
       "      <td>5</td>\n",
       "      <td>1</td>\n",
       "      <td>279.0</td>\n",
       "      <td>5.0</td>\n",
       "      <td>14.0</td>\n",
       "      <td>39.0</td>\n",
       "      <td>239554.0</td>\n",
       "      <td>97.0</td>\n",
       "      <td>0.0</td>\n",
       "      <td>1.0</td>\n",
       "      <td>2.0</td>\n",
       "      <td>1.0</td>\n",
       "      <td>1.0</td>\n",
       "      <td>0.0</td>\n",
       "      <td>68.0</td>\n",
       "      <td>168.0</td>\n",
       "      <td>24.0</td>\n",
       "      <td>4.0</td>\n",
       "    </tr>\n",
       "    <tr>\n",
       "      <th>4</th>\n",
       "      <td>11</td>\n",
       "      <td>23.0</td>\n",
       "      <td>7.0</td>\n",
       "      <td>5</td>\n",
       "      <td>1</td>\n",
       "      <td>289.0</td>\n",
       "      <td>36.0</td>\n",
       "      <td>13.0</td>\n",
       "      <td>33.0</td>\n",
       "      <td>239554.0</td>\n",
       "      <td>97.0</td>\n",
       "      <td>0.0</td>\n",
       "      <td>1.0</td>\n",
       "      <td>2.0</td>\n",
       "      <td>1.0</td>\n",
       "      <td>0.0</td>\n",
       "      <td>1.0</td>\n",
       "      <td>90.0</td>\n",
       "      <td>172.0</td>\n",
       "      <td>30.0</td>\n",
       "      <td>2.0</td>\n",
       "    </tr>\n",
       "  </tbody>\n",
       "</table>\n",
       "</div>"
      ],
      "text/plain": [
       "   ID  Reason for absence  Month of absence  Day of the week  Seasons  \\\n",
       "0  11                26.0               7.0                3        1   \n",
       "1  36                 0.0               7.0                3        1   \n",
       "2   3                23.0               7.0                4        1   \n",
       "3   7                 7.0               7.0                5        1   \n",
       "4  11                23.0               7.0                5        1   \n",
       "\n",
       "   Transportation expense  Distance from Residence to Work  Service time  \\\n",
       "0                   289.0                             36.0          13.0   \n",
       "1                   118.0                             13.0          18.0   \n",
       "2                   179.0                             51.0          18.0   \n",
       "3                   279.0                              5.0          14.0   \n",
       "4                   289.0                             36.0          13.0   \n",
       "\n",
       "    Age  Work load Average/day   Hit target  Disciplinary failure  Education  \\\n",
       "0  33.0                239554.0        97.0                   0.0        1.0   \n",
       "1  50.0                239554.0        97.0                   1.0        1.0   \n",
       "2  38.0                239554.0        97.0                   0.0        1.0   \n",
       "3  39.0                239554.0        97.0                   0.0        1.0   \n",
       "4  33.0                239554.0        97.0                   0.0        1.0   \n",
       "\n",
       "   Son  Social drinker  Social smoker  Pet  Weight  Height  Body mass index  \\\n",
       "0  2.0             1.0            0.0  1.0    90.0   172.0             30.0   \n",
       "1  1.0             1.0            0.0  0.0    98.0   178.0             31.0   \n",
       "2  0.0             1.0            0.0  0.0    89.0   170.0             31.0   \n",
       "3  2.0             1.0            1.0  0.0    68.0   168.0             24.0   \n",
       "4  2.0             1.0            0.0  1.0    90.0   172.0             30.0   \n",
       "\n",
       "   Absenteeism time in hours  \n",
       "0                        4.0  \n",
       "1                        0.0  \n",
       "2                        2.0  \n",
       "3                        4.0  \n",
       "4                        2.0  "
      ]
     },
     "execution_count": 5,
     "metadata": {},
     "output_type": "execute_result"
    }
   ],
   "source": [
    "data.head(5)"
   ]
  },
  {
   "cell_type": "code",
   "execution_count": 6,
   "metadata": {},
   "outputs": [
    {
     "name": "stdout",
     "output_type": "stream",
     "text": [
      "Shape of the data is (740, 21)\n"
     ]
    }
   ],
   "source": [
    "print(\"Shape of the data is {}\" . format(data.shape))"
   ]
  },
  {
   "cell_type": "code",
   "execution_count": 7,
   "metadata": {},
   "outputs": [
    {
     "name": "stdout",
     "output_type": "stream",
     "text": [
      "Index(['ID', 'Reason for absence', 'Month of absence', 'Day of the week',\n",
      "       'Seasons', 'Transportation expense', 'Distance from Residence to Work',\n",
      "       'Service time', 'Age', 'Work load Average/day ', 'Hit target',\n",
      "       'Disciplinary failure', 'Education', 'Son', 'Social drinker',\n",
      "       'Social smoker', 'Pet', 'Weight', 'Height', 'Body mass index',\n",
      "       'Absenteeism time in hours'],\n",
      "      dtype='object')\n",
      "--------------------------------------------------------------------------------\n",
      "Total number of Features is : 21\n"
     ]
    }
   ],
   "source": [
    "print(data.columns)\n",
    "print(\"-\"*80)\n",
    "print(\"Total number of Features is : {}\" .format(len(data.columns)))"
   ]
  },
  {
   "cell_type": "code",
   "execution_count": 8,
   "metadata": {},
   "outputs": [
    {
     "name": "stdout",
     "output_type": "stream",
     "text": [
      "Index(['ID', 'Reason_for_absence', 'Month_of_absence', 'Day_of_the_week',\n",
      "       'Seasons', 'Transportation_expense', 'Distance_from_Residence_to_Work',\n",
      "       'Service_time', 'Age', 'Work_load_Average/day_', 'Hit_target',\n",
      "       'Disciplinary_failure', 'Education', 'Son', 'Social_drinker',\n",
      "       'Social_smoker', 'Pet', 'Weight', 'Height', 'Body_mass_index',\n",
      "       'Absenteeism_time_in_hours'],\n",
      "      dtype='object')\n"
     ]
    }
   ],
   "source": [
    "data.columns = data.columns.str.replace(' ', '_')\n",
    "print(data.columns)"
   ]
  },
  {
   "cell_type": "markdown",
   "metadata": {},
   "source": [
    "** Inference :** <br>\n",
    "The data contains 740 data points and 21 features."
   ]
  },
  {
   "cell_type": "markdown",
   "metadata": {},
   "source": [
    "## 2.2 Class Distribution"
   ]
  },
  {
   "cell_type": "code",
   "execution_count": 9,
   "metadata": {},
   "outputs": [
    {
     "data": {
      "text/plain": [
       "ID                                 36\n",
       "Reason_for_absence                 28\n",
       "Month_of_absence                   13\n",
       "Day_of_the_week                     5\n",
       "Seasons                             4\n",
       "Transportation_expense             24\n",
       "Distance_from_Residence_to_Work    25\n",
       "Service_time                       18\n",
       "Age                                22\n",
       "Work_load_Average/day_             38\n",
       "Hit_target                         13\n",
       "Disciplinary_failure                2\n",
       "Education                           4\n",
       "Son                                 5\n",
       "Social_drinker                      2\n",
       "Social_smoker                       2\n",
       "Pet                                 6\n",
       "Weight                             26\n",
       "Height                             14\n",
       "Body_mass_index                    17\n",
       "Absenteeism_time_in_hours          19\n",
       "dtype: int64"
      ]
     },
     "execution_count": 9,
     "metadata": {},
     "output_type": "execute_result"
    }
   ],
   "source": [
    "data.nunique()"
   ]
  },
  {
   "cell_type": "code",
   "execution_count": 10,
   "metadata": {},
   "outputs": [
    {
     "data": {
      "text/plain": [
       "8.0      199\n",
       "2.0      155\n",
       "3.0      110\n",
       "1.0       88\n",
       "4.0       60\n",
       "0.0       36\n",
       "16.0      19\n",
       "24.0      16\n",
       "40.0       7\n",
       "5.0        7\n",
       "32.0       5\n",
       "64.0       3\n",
       "80.0       3\n",
       "120.0      3\n",
       "56.0       2\n",
       "112.0      2\n",
       "104.0      1\n",
       "7.0        1\n",
       "48.0       1\n",
       "Name: Absenteeism_time_in_hours, dtype: int64"
      ]
     },
     "execution_count": 10,
     "metadata": {},
     "output_type": "execute_result"
    }
   ],
   "source": [
    "data[\"Absenteeism_time_in_hours\"].value_counts()"
   ]
  },
  {
   "cell_type": "code",
   "execution_count": 11,
   "metadata": {},
   "outputs": [
    {
     "name": "stderr",
     "output_type": "stream",
     "text": [
      "/Users/akash/anaconda3/lib/python3.6/site-packages/seaborn/categorical.py:1460: FutureWarning: remove_na is deprecated and is a private function. Do not use.\n",
      "  stat_data = remove_na(group_data)\n"
     ]
    },
    {
     "data": {
      "image/png": "[encoded data removed]",
      "text/plain": [
       "<Figure size 1080x432 with 1 Axes>"
      ]
     },
     "metadata": {},
     "output_type": "display_data"
    }
   ],
   "source": [
    "%matplotlib inline\n",
    "import matplotlib.pyplot as plt\n",
    "import seaborn as sns\n",
    "\n",
    "sns.mpl.rc(\"figure\", figsize=(15,6))\n",
    "sns.countplot(x=\"Absenteeism_time_in_hours\", data= data)\n",
    "dim = (4,6)\n",
    "plt.ylabel('Frequency')\n",
    "plt.xlabel('Class Count')\n",
    "plt.title(\"Frequency of Classes\")\n",
    "plt.show()"
   ]
  },
  {
   "cell_type": "markdown",
   "metadata": {},
   "source": [
    "**INFERENCE :**\n",
    " - From the above plot, it is obvious that maximum number (i.e around 200) of employes are absent for 8 hours.\n",
    " - Around 420 employes are absent for 1 to 4 hours.\n",
    " - Only 36 employes doesnt take any leave.\n",
    " - There are only 27 employes, who take leave for 40-120 hours\n",
    "\n",
    "One observation that is worth noting from the above plot is that, after class 8, every other class is a multiple of 8\n"
   ]
  },
  {
   "cell_type": "markdown",
   "metadata": {},
   "source": [
    "## 2.3 Missing Values"
   ]
  },
  {
   "cell_type": "code",
   "execution_count": 12,
   "metadata": {},
   "outputs": [
    {
     "name": "stdout",
     "output_type": "stream",
     "text": [
      "                                  0\n",
      "ID                                0\n",
      "Reason_for_absence                3\n",
      "Month_of_absence                  1\n",
      "Day_of_the_week                   0\n",
      "Seasons                           0\n",
      "Transportation_expense            7\n",
      "Distance_from_Residence_to_Work   3\n",
      "Service_time                      3\n",
      "Age                               3\n",
      "Work_load_Average/day_           10\n",
      "Hit_target                        6\n",
      "Disciplinary_failure              6\n",
      "Education                        10\n",
      "Son                               6\n",
      "Social_drinker                    3\n",
      "Social_smoker                     4\n",
      "Pet                               2\n",
      "Weight                            1\n",
      "Height                           14\n",
      "Body_mass_index                  31\n",
      "Absenteeism_time_in_hours        22\n"
     ]
    }
   ],
   "source": [
    "missing_val = pd.DataFrame(data.isnull().sum())\n",
    "print(missing_val)"
   ]
  },
  {
   "cell_type": "code",
   "execution_count": 13,
   "metadata": {
    "collapsed": true
   },
   "outputs": [],
   "source": [
    "missing_val = missing_val.reset_index()\n",
    "missing_val = missing_val.rename(columns  = {'index' : 'variables' , 0 : 'missing_percentage' })\n",
    "missing_val[\"missing_percentage\"] =  (missing_val[\"missing_percentage\"] / len(data))*100\n",
    "missing_val = missing_val.sort_values('missing_percentage', ascending= False).reset_index(drop = True)"
   ]
  },
  {
   "cell_type": "code",
   "execution_count": 14,
   "metadata": {},
   "outputs": [
    {
     "data": {
      "text/html": [
       "<div>\n",
       "<style scoped>\n",
       "    .dataframe tbody tr th:only-of-type {\n",
       "        vertical-align: middle;\n",
       "    }\n",
       "\n",
       "    .dataframe tbody tr th {\n",
       "        vertical-align: top;\n",
       "    }\n",
       "\n",
       "    .dataframe thead th {\n",
       "        text-align: right;\n",
       "    }\n",
       "</style>\n",
       "<table border=\"1\" class=\"dataframe\">\n",
       "  <thead>\n",
       "    <tr style=\"text-align: right;\">\n",
       "      <th></th>\n",
       "      <th>variables</th>\n",
       "      <th>missing_percentage</th>\n",
       "    </tr>\n",
       "  </thead>\n",
       "  <tbody>\n",
       "    <tr>\n",
       "      <th>0</th>\n",
       "      <td>Body_mass_index</td>\n",
       "      <td>4.189189</td>\n",
       "    </tr>\n",
       "    <tr>\n",
       "      <th>1</th>\n",
       "      <td>Absenteeism_time_in_hours</td>\n",
       "      <td>2.972973</td>\n",
       "    </tr>\n",
       "    <tr>\n",
       "      <th>2</th>\n",
       "      <td>Height</td>\n",
       "      <td>1.891892</td>\n",
       "    </tr>\n",
       "    <tr>\n",
       "      <th>3</th>\n",
       "      <td>Work_load_Average/day_</td>\n",
       "      <td>1.351351</td>\n",
       "    </tr>\n",
       "    <tr>\n",
       "      <th>4</th>\n",
       "      <td>Education</td>\n",
       "      <td>1.351351</td>\n",
       "    </tr>\n",
       "    <tr>\n",
       "      <th>5</th>\n",
       "      <td>Transportation_expense</td>\n",
       "      <td>0.945946</td>\n",
       "    </tr>\n",
       "    <tr>\n",
       "      <th>6</th>\n",
       "      <td>Son</td>\n",
       "      <td>0.810811</td>\n",
       "    </tr>\n",
       "    <tr>\n",
       "      <th>7</th>\n",
       "      <td>Disciplinary_failure</td>\n",
       "      <td>0.810811</td>\n",
       "    </tr>\n",
       "    <tr>\n",
       "      <th>8</th>\n",
       "      <td>Hit_target</td>\n",
       "      <td>0.810811</td>\n",
       "    </tr>\n",
       "    <tr>\n",
       "      <th>9</th>\n",
       "      <td>Social_smoker</td>\n",
       "      <td>0.540541</td>\n",
       "    </tr>\n",
       "    <tr>\n",
       "      <th>10</th>\n",
       "      <td>Age</td>\n",
       "      <td>0.405405</td>\n",
       "    </tr>\n",
       "    <tr>\n",
       "      <th>11</th>\n",
       "      <td>Reason_for_absence</td>\n",
       "      <td>0.405405</td>\n",
       "    </tr>\n",
       "    <tr>\n",
       "      <th>12</th>\n",
       "      <td>Service_time</td>\n",
       "      <td>0.405405</td>\n",
       "    </tr>\n",
       "    <tr>\n",
       "      <th>13</th>\n",
       "      <td>Distance_from_Residence_to_Work</td>\n",
       "      <td>0.405405</td>\n",
       "    </tr>\n",
       "    <tr>\n",
       "      <th>14</th>\n",
       "      <td>Social_drinker</td>\n",
       "      <td>0.405405</td>\n",
       "    </tr>\n",
       "    <tr>\n",
       "      <th>15</th>\n",
       "      <td>Pet</td>\n",
       "      <td>0.270270</td>\n",
       "    </tr>\n",
       "    <tr>\n",
       "      <th>16</th>\n",
       "      <td>Weight</td>\n",
       "      <td>0.135135</td>\n",
       "    </tr>\n",
       "    <tr>\n",
       "      <th>17</th>\n",
       "      <td>Month_of_absence</td>\n",
       "      <td>0.135135</td>\n",
       "    </tr>\n",
       "    <tr>\n",
       "      <th>18</th>\n",
       "      <td>Seasons</td>\n",
       "      <td>0.000000</td>\n",
       "    </tr>\n",
       "    <tr>\n",
       "      <th>19</th>\n",
       "      <td>Day_of_the_week</td>\n",
       "      <td>0.000000</td>\n",
       "    </tr>\n",
       "    <tr>\n",
       "      <th>20</th>\n",
       "      <td>ID</td>\n",
       "      <td>0.000000</td>\n",
       "    </tr>\n",
       "  </tbody>\n",
       "</table>\n",
       "</div>"
      ],
      "text/plain": [
       "                          variables  missing_percentage\n",
       "0                   Body_mass_index            4.189189\n",
       "1         Absenteeism_time_in_hours            2.972973\n",
       "2                            Height            1.891892\n",
       "3            Work_load_Average/day_            1.351351\n",
       "4                         Education            1.351351\n",
       "5            Transportation_expense            0.945946\n",
       "6                               Son            0.810811\n",
       "7              Disciplinary_failure            0.810811\n",
       "8                        Hit_target            0.810811\n",
       "9                     Social_smoker            0.540541\n",
       "10                              Age            0.405405\n",
       "11               Reason_for_absence            0.405405\n",
       "12                     Service_time            0.405405\n",
       "13  Distance_from_Residence_to_Work            0.405405\n",
       "14                   Social_drinker            0.405405\n",
       "15                              Pet            0.270270\n",
       "16                           Weight            0.135135\n",
       "17                 Month_of_absence            0.135135\n",
       "18                          Seasons            0.000000\n",
       "19                  Day_of_the_week            0.000000\n",
       "20                               ID            0.000000"
      ]
     },
     "execution_count": 14,
     "metadata": {},
     "output_type": "execute_result"
    }
   ],
   "source": [
    "missing_val"
   ]
  },
  {
   "cell_type": "code",
   "execution_count": 15,
   "metadata": {},
   "outputs": [
    {
     "name": "stdout",
     "output_type": "stream",
     "text": [
      "(718, 21)\n",
      "0\n"
     ]
    }
   ],
   "source": [
    "# Droping observation in which \"Absenteeism time in hours\" has missing value\n",
    "data = data.drop(data[data['Absenteeism_time_in_hours'].isnull()].index, axis=0)\n",
    "print(data.shape)\n",
    "print(data['Absenteeism_time_in_hours'].isnull().sum())"
   ]
  },
  {
   "cell_type": "code",
   "execution_count": 16,
   "metadata": {},
   "outputs": [
    {
     "name": "stdout",
     "output_type": "stream",
     "text": [
      "Total employes with values in all variables:  639\n",
      "Total employes in the company:  718\n",
      "Percentage of data without missing values:  0.8899721448467967\n"
     ]
    }
   ],
   "source": [
    "# let's go ahead and have a look at how many observations we would drop\n",
    "print('Total employes with values in all variables: ', data.dropna().shape[0])\n",
    "print('Total employes in the company: ', data.shape[0])\n",
    "print('Percentage of data without missing values: ', data.dropna().shape[0]/ np.float(data.shape[0]))"
   ]
  },
  {
   "cell_type": "code",
   "execution_count": 17,
   "metadata": {},
   "outputs": [
    {
     "name": "stdout",
     "output_type": "stream",
     "text": [
      "Imputing row 1/718 with 0 missing, elapsed time: 0.168\n",
      "Imputing row 101/718 with 1 missing, elapsed time: 0.172\n",
      "Imputing row 201/718 with 0 missing, elapsed time: 0.174\n",
      "Imputing row 301/718 with 0 missing, elapsed time: 0.175\n",
      "Imputing row 401/718 with 0 missing, elapsed time: 0.177\n",
      "Imputing row 501/718 with 1 missing, elapsed time: 0.178\n",
      "Imputing row 601/718 with 0 missing, elapsed time: 0.179\n",
      "Imputing row 701/718 with 0 missing, elapsed time: 0.180\n"
     ]
    }
   ],
   "source": [
    "## Imputing Missing Values using KNN imputation\n",
    "data = pd.DataFrame(KNN(k = 3).complete(data), columns = data.columns)"
   ]
  },
  {
   "cell_type": "code",
   "execution_count": 18,
   "metadata": {},
   "outputs": [
    {
     "data": {
      "text/plain": [
       "ID                                 0\n",
       "Reason_for_absence                 0\n",
       "Month_of_absence                   0\n",
       "Day_of_the_week                    0\n",
       "Seasons                            0\n",
       "Transportation_expense             0\n",
       "Distance_from_Residence_to_Work    0\n",
       "Service_time                       0\n",
       "Age                                0\n",
       "Work_load_Average/day_             0\n",
       "Hit_target                         0\n",
       "Disciplinary_failure               0\n",
       "Education                          0\n",
       "Son                                0\n",
       "Social_drinker                     0\n",
       "Social_smoker                      0\n",
       "Pet                                0\n",
       "Weight                             0\n",
       "Height                             0\n",
       "Body_mass_index                    0\n",
       "Absenteeism_time_in_hours          0\n",
       "dtype: int64"
      ]
     },
     "execution_count": 18,
     "metadata": {},
     "output_type": "execute_result"
    }
   ],
   "source": [
    "data.isnull().sum()"
   ]
  },
  {
   "cell_type": "markdown",
   "metadata": {},
   "source": [
    "## 2.4 Data Statistics"
   ]
  },
  {
   "cell_type": "code",
   "execution_count": 19,
   "metadata": {},
   "outputs": [
    {
     "name": "stdout",
     "output_type": "stream",
     "text": [
      "Unique values Per Feature\n",
      "-------------------------\n"
     ]
    },
    {
     "data": {
      "text/html": [
       "<div>\n",
       "<style scoped>\n",
       "    .dataframe tbody tr th:only-of-type {\n",
       "        vertical-align: middle;\n",
       "    }\n",
       "\n",
       "    .dataframe tbody tr th {\n",
       "        vertical-align: top;\n",
       "    }\n",
       "\n",
       "    .dataframe thead th {\n",
       "        text-align: right;\n",
       "    }\n",
       "</style>\n",
       "<table border=\"1\" class=\"dataframe\">\n",
       "  <thead>\n",
       "    <tr style=\"text-align: right;\">\n",
       "      <th></th>\n",
       "      <th>ID</th>\n",
       "      <th>Reason_for_absence</th>\n",
       "      <th>Month_of_absence</th>\n",
       "      <th>Day_of_the_week</th>\n",
       "      <th>Seasons</th>\n",
       "      <th>Transportation_expense</th>\n",
       "      <th>Distance_from_Residence_to_Work</th>\n",
       "      <th>Service_time</th>\n",
       "      <th>Age</th>\n",
       "      <th>Work_load_Average/day_</th>\n",
       "      <th>Hit_target</th>\n",
       "      <th>Disciplinary_failure</th>\n",
       "      <th>Education</th>\n",
       "      <th>Son</th>\n",
       "      <th>Social_drinker</th>\n",
       "      <th>Social_smoker</th>\n",
       "      <th>Pet</th>\n",
       "      <th>Weight</th>\n",
       "      <th>Height</th>\n",
       "      <th>Body_mass_index</th>\n",
       "      <th>Absenteeism_time_in_hours</th>\n",
       "    </tr>\n",
       "  </thead>\n",
       "  <tbody>\n",
       "    <tr>\n",
       "      <th>0</th>\n",
       "      <td>36</td>\n",
       "      <td>31</td>\n",
       "      <td>14</td>\n",
       "      <td>5</td>\n",
       "      <td>4</td>\n",
       "      <td>30</td>\n",
       "      <td>28</td>\n",
       "      <td>18</td>\n",
       "      <td>24</td>\n",
       "      <td>46</td>\n",
       "      <td>17</td>\n",
       "      <td>2</td>\n",
       "      <td>8</td>\n",
       "      <td>8</td>\n",
       "      <td>4</td>\n",
       "      <td>2</td>\n",
       "      <td>7</td>\n",
       "      <td>27</td>\n",
       "      <td>26</td>\n",
       "      <td>45</td>\n",
       "      <td>19</td>\n",
       "    </tr>\n",
       "  </tbody>\n",
       "</table>\n",
       "</div>"
      ],
      "text/plain": [
       "   ID  Reason_for_absence  Month_of_absence  Day_of_the_week  Seasons  \\\n",
       "0  36                  31                14                5        4   \n",
       "\n",
       "   Transportation_expense  Distance_from_Residence_to_Work  Service_time  Age  \\\n",
       "0                      30                               28            18   24   \n",
       "\n",
       "   Work_load_Average/day_  Hit_target  Disciplinary_failure  Education  Son  \\\n",
       "0                      46          17                     2          8    8   \n",
       "\n",
       "   Social_drinker  Social_smoker  Pet  Weight  Height  Body_mass_index  \\\n",
       "0               4              2    7      27      26               45   \n",
       "\n",
       "   Absenteeism_time_in_hours  \n",
       "0                         19  "
      ]
     },
     "execution_count": 19,
     "metadata": {},
     "output_type": "execute_result"
    }
   ],
   "source": [
    "print(\"Unique values Per Feature\")\n",
    "print(\"-\"*25)\n",
    "pd.DataFrame(data.nunique()).T"
   ]
  },
  {
   "cell_type": "code",
   "execution_count": 20,
   "metadata": {},
   "outputs": [
    {
     "data": {
      "text/html": [
       "<div>\n",
       "<style scoped>\n",
       "    .dataframe tbody tr th:only-of-type {\n",
       "        vertical-align: middle;\n",
       "    }\n",
       "\n",
       "    .dataframe tbody tr th {\n",
       "        vertical-align: top;\n",
       "    }\n",
       "\n",
       "    .dataframe thead th {\n",
       "        text-align: right;\n",
       "    }\n",
       "</style>\n",
       "<table border=\"1\" class=\"dataframe\">\n",
       "  <thead>\n",
       "    <tr style=\"text-align: right;\">\n",
       "      <th></th>\n",
       "      <th>ID</th>\n",
       "      <th>Reason_for_absence</th>\n",
       "      <th>Month_of_absence</th>\n",
       "      <th>Day_of_the_week</th>\n",
       "      <th>Seasons</th>\n",
       "      <th>Transportation_expense</th>\n",
       "      <th>Distance_from_Residence_to_Work</th>\n",
       "      <th>Service_time</th>\n",
       "      <th>Age</th>\n",
       "      <th>Work_load_Average/day_</th>\n",
       "      <th>Hit_target</th>\n",
       "      <th>Disciplinary_failure</th>\n",
       "      <th>Education</th>\n",
       "      <th>Son</th>\n",
       "      <th>Social_drinker</th>\n",
       "      <th>Social_smoker</th>\n",
       "      <th>Pet</th>\n",
       "      <th>Weight</th>\n",
       "      <th>Height</th>\n",
       "      <th>Body_mass_index</th>\n",
       "      <th>Absenteeism_time_in_hours</th>\n",
       "    </tr>\n",
       "  </thead>\n",
       "  <tbody>\n",
       "    <tr>\n",
       "      <th>count</th>\n",
       "      <td>718.000000</td>\n",
       "      <td>718.000000</td>\n",
       "      <td>718.000000</td>\n",
       "      <td>718.000000</td>\n",
       "      <td>718.000000</td>\n",
       "      <td>718.000000</td>\n",
       "      <td>718.000000</td>\n",
       "      <td>718.000000</td>\n",
       "      <td>718.000000</td>\n",
       "      <td>718.000000</td>\n",
       "      <td>718.000000</td>\n",
       "      <td>718.000000</td>\n",
       "      <td>718.000000</td>\n",
       "      <td>718.000000</td>\n",
       "      <td>718.000000</td>\n",
       "      <td>718.000000</td>\n",
       "      <td>718.000000</td>\n",
       "      <td>718.000000</td>\n",
       "      <td>718.000000</td>\n",
       "      <td>718.000000</td>\n",
       "      <td>718.000000</td>\n",
       "    </tr>\n",
       "    <tr>\n",
       "      <th>mean</th>\n",
       "      <td>17.981894</td>\n",
       "      <td>19.418432</td>\n",
       "      <td>6.270195</td>\n",
       "      <td>3.899721</td>\n",
       "      <td>2.532033</td>\n",
       "      <td>220.654277</td>\n",
       "      <td>29.577747</td>\n",
       "      <td>12.584958</td>\n",
       "      <td>36.467701</td>\n",
       "      <td>271326.328644</td>\n",
       "      <td>94.611423</td>\n",
       "      <td>0.045961</td>\n",
       "      <td>1.296657</td>\n",
       "      <td>1.011083</td>\n",
       "      <td>0.563578</td>\n",
       "      <td>0.071031</td>\n",
       "      <td>0.742340</td>\n",
       "      <td>79.059889</td>\n",
       "      <td>172.092308</td>\n",
       "      <td>26.702320</td>\n",
       "      <td>6.977716</td>\n",
       "    </tr>\n",
       "    <tr>\n",
       "      <th>std</th>\n",
       "      <td>11.035935</td>\n",
       "      <td>8.288079</td>\n",
       "      <td>3.440181</td>\n",
       "      <td>1.419519</td>\n",
       "      <td>1.105813</td>\n",
       "      <td>66.059450</td>\n",
       "      <td>14.787993</td>\n",
       "      <td>4.371251</td>\n",
       "      <td>6.477668</td>\n",
       "      <td>38786.956678</td>\n",
       "      <td>3.799468</td>\n",
       "      <td>0.209547</td>\n",
       "      <td>0.678225</td>\n",
       "      <td>1.088586</td>\n",
       "      <td>0.495913</td>\n",
       "      <td>0.257055</td>\n",
       "      <td>1.310473</td>\n",
       "      <td>12.867657</td>\n",
       "      <td>6.004716</td>\n",
       "      <td>4.272132</td>\n",
       "      <td>13.476962</td>\n",
       "    </tr>\n",
       "    <tr>\n",
       "      <th>min</th>\n",
       "      <td>1.000000</td>\n",
       "      <td>0.000000</td>\n",
       "      <td>0.000000</td>\n",
       "      <td>2.000000</td>\n",
       "      <td>1.000000</td>\n",
       "      <td>118.000000</td>\n",
       "      <td>5.000000</td>\n",
       "      <td>1.000000</td>\n",
       "      <td>27.000000</td>\n",
       "      <td>205917.000000</td>\n",
       "      <td>81.000000</td>\n",
       "      <td>0.000000</td>\n",
       "      <td>1.000000</td>\n",
       "      <td>0.000000</td>\n",
       "      <td>0.000000</td>\n",
       "      <td>0.000000</td>\n",
       "      <td>0.000000</td>\n",
       "      <td>56.000000</td>\n",
       "      <td>163.000000</td>\n",
       "      <td>19.000000</td>\n",
       "      <td>0.000000</td>\n",
       "    </tr>\n",
       "    <tr>\n",
       "      <th>25%</th>\n",
       "      <td>9.000000</td>\n",
       "      <td>13.000000</td>\n",
       "      <td>3.000000</td>\n",
       "      <td>3.000000</td>\n",
       "      <td>2.000000</td>\n",
       "      <td>179.000000</td>\n",
       "      <td>16.000000</td>\n",
       "      <td>9.000000</td>\n",
       "      <td>31.000000</td>\n",
       "      <td>244387.000000</td>\n",
       "      <td>93.000000</td>\n",
       "      <td>0.000000</td>\n",
       "      <td>1.000000</td>\n",
       "      <td>0.000000</td>\n",
       "      <td>0.000000</td>\n",
       "      <td>0.000000</td>\n",
       "      <td>0.000000</td>\n",
       "      <td>69.000000</td>\n",
       "      <td>169.000000</td>\n",
       "      <td>24.000000</td>\n",
       "      <td>2.000000</td>\n",
       "    </tr>\n",
       "    <tr>\n",
       "      <th>50%</th>\n",
       "      <td>18.000000</td>\n",
       "      <td>23.000000</td>\n",
       "      <td>6.000000</td>\n",
       "      <td>4.000000</td>\n",
       "      <td>3.000000</td>\n",
       "      <td>225.000000</td>\n",
       "      <td>26.000000</td>\n",
       "      <td>13.000000</td>\n",
       "      <td>37.000000</td>\n",
       "      <td>264249.000000</td>\n",
       "      <td>95.000000</td>\n",
       "      <td>0.000000</td>\n",
       "      <td>1.000000</td>\n",
       "      <td>1.000000</td>\n",
       "      <td>1.000000</td>\n",
       "      <td>0.000000</td>\n",
       "      <td>0.000000</td>\n",
       "      <td>83.000000</td>\n",
       "      <td>170.000000</td>\n",
       "      <td>25.000000</td>\n",
       "      <td>3.000000</td>\n",
       "    </tr>\n",
       "    <tr>\n",
       "      <th>75%</th>\n",
       "      <td>28.000000</td>\n",
       "      <td>26.750000</td>\n",
       "      <td>9.000000</td>\n",
       "      <td>5.000000</td>\n",
       "      <td>4.000000</td>\n",
       "      <td>260.000000</td>\n",
       "      <td>50.000000</td>\n",
       "      <td>16.000000</td>\n",
       "      <td>40.000000</td>\n",
       "      <td>291876.000000</td>\n",
       "      <td>97.000000</td>\n",
       "      <td>0.000000</td>\n",
       "      <td>1.000000</td>\n",
       "      <td>2.000000</td>\n",
       "      <td>1.000000</td>\n",
       "      <td>0.000000</td>\n",
       "      <td>1.000000</td>\n",
       "      <td>89.000000</td>\n",
       "      <td>172.000000</td>\n",
       "      <td>31.000000</td>\n",
       "      <td>8.000000</td>\n",
       "    </tr>\n",
       "    <tr>\n",
       "      <th>max</th>\n",
       "      <td>36.000000</td>\n",
       "      <td>28.000000</td>\n",
       "      <td>12.000000</td>\n",
       "      <td>6.000000</td>\n",
       "      <td>4.000000</td>\n",
       "      <td>388.000000</td>\n",
       "      <td>52.000000</td>\n",
       "      <td>29.000000</td>\n",
       "      <td>58.000000</td>\n",
       "      <td>378884.000000</td>\n",
       "      <td>100.000000</td>\n",
       "      <td>1.000000</td>\n",
       "      <td>4.000000</td>\n",
       "      <td>4.000000</td>\n",
       "      <td>1.000000</td>\n",
       "      <td>1.000000</td>\n",
       "      <td>8.000000</td>\n",
       "      <td>108.000000</td>\n",
       "      <td>196.000000</td>\n",
       "      <td>38.000000</td>\n",
       "      <td>120.000000</td>\n",
       "    </tr>\n",
       "  </tbody>\n",
       "</table>\n",
       "</div>"
      ],
      "text/plain": [
       "               ID  Reason_for_absence  Month_of_absence  Day_of_the_week  \\\n",
       "count  718.000000          718.000000        718.000000       718.000000   \n",
       "mean    17.981894           19.418432          6.270195         3.899721   \n",
       "std     11.035935            8.288079          3.440181         1.419519   \n",
       "min      1.000000            0.000000          0.000000         2.000000   \n",
       "25%      9.000000           13.000000          3.000000         3.000000   \n",
       "50%     18.000000           23.000000          6.000000         4.000000   \n",
       "75%     28.000000           26.750000          9.000000         5.000000   \n",
       "max     36.000000           28.000000         12.000000         6.000000   \n",
       "\n",
       "          Seasons  Transportation_expense  Distance_from_Residence_to_Work  \\\n",
       "count  718.000000              718.000000                       718.000000   \n",
       "mean     2.532033              220.654277                        29.577747   \n",
       "std      1.105813               66.059450                        14.787993   \n",
       "min      1.000000              118.000000                         5.000000   \n",
       "25%      2.000000              179.000000                        16.000000   \n",
       "50%      3.000000              225.000000                        26.000000   \n",
       "75%      4.000000              260.000000                        50.000000   \n",
       "max      4.000000              388.000000                        52.000000   \n",
       "\n",
       "       Service_time         Age  Work_load_Average/day_  Hit_target  \\\n",
       "count    718.000000  718.000000              718.000000  718.000000   \n",
       "mean      12.584958   36.467701           271326.328644   94.611423   \n",
       "std        4.371251    6.477668            38786.956678    3.799468   \n",
       "min        1.000000   27.000000           205917.000000   81.000000   \n",
       "25%        9.000000   31.000000           244387.000000   93.000000   \n",
       "50%       13.000000   37.000000           264249.000000   95.000000   \n",
       "75%       16.000000   40.000000           291876.000000   97.000000   \n",
       "max       29.000000   58.000000           378884.000000  100.000000   \n",
       "\n",
       "       Disciplinary_failure   Education         Son  Social_drinker  \\\n",
       "count            718.000000  718.000000  718.000000      718.000000   \n",
       "mean               0.045961    1.296657    1.011083        0.563578   \n",
       "std                0.209547    0.678225    1.088586        0.495913   \n",
       "min                0.000000    1.000000    0.000000        0.000000   \n",
       "25%                0.000000    1.000000    0.000000        0.000000   \n",
       "50%                0.000000    1.000000    1.000000        1.000000   \n",
       "75%                0.000000    1.000000    2.000000        1.000000   \n",
       "max                1.000000    4.000000    4.000000        1.000000   \n",
       "\n",
       "       Social_smoker         Pet      Weight      Height  Body_mass_index  \\\n",
       "count     718.000000  718.000000  718.000000  718.000000       718.000000   \n",
       "mean        0.071031    0.742340   79.059889  172.092308        26.702320   \n",
       "std         0.257055    1.310473   12.867657    6.004716         4.272132   \n",
       "min         0.000000    0.000000   56.000000  163.000000        19.000000   \n",
       "25%         0.000000    0.000000   69.000000  169.000000        24.000000   \n",
       "50%         0.000000    0.000000   83.000000  170.000000        25.000000   \n",
       "75%         0.000000    1.000000   89.000000  172.000000        31.000000   \n",
       "max         1.000000    8.000000  108.000000  196.000000        38.000000   \n",
       "\n",
       "       Absenteeism_time_in_hours  \n",
       "count                 718.000000  \n",
       "mean                    6.977716  \n",
       "std                    13.476962  \n",
       "min                     0.000000  \n",
       "25%                     2.000000  \n",
       "50%                     3.000000  \n",
       "75%                     8.000000  \n",
       "max                   120.000000  "
      ]
     },
     "execution_count": 20,
     "metadata": {},
     "output_type": "execute_result"
    }
   ],
   "source": [
    "data.describe()"
   ]
  },
  {
   "cell_type": "markdown",
   "metadata": {},
   "source": [
    "## 2.5 Data Visualisation"
   ]
  },
  {
   "cell_type": "code",
   "execution_count": 21,
   "metadata": {},
   "outputs": [
    {
     "data": {
      "image/png": "[encoded data removed]",
      "text/plain": [
       "<Figure size 1008x432 with 1 Axes>"
      ]
     },
     "metadata": {},
     "output_type": "display_data"
    }
   ],
   "source": [
    "data.groupby('Seasons')['Absenteeism_time_in_hours'].mean().plot(kind='bar',title='Mean Absentism time per season',figsize=(14,6))\n",
    "plt.show()"
   ]
  },
  {
   "cell_type": "markdown",
   "metadata": {},
   "source": [
    "**Inference :**\n",
    "From the above plot, It can be observed that the absence rate of employees is maximum in the third season which is 'Winter', followed by first, fourth and second which is 'summer', 'spring', 'autumn' respectively."
   ]
  },
  {
   "cell_type": "code",
   "execution_count": 22,
   "metadata": {},
   "outputs": [
    {
     "data": {
      "image/png": "[encoded data removed]",
      "text/plain": [
       "<Figure size 1008x432 with 1 Axes>"
      ]
     },
     "metadata": {},
     "output_type": "display_data"
    }
   ],
   "source": [
    "data.groupby('Month_of_absence')['Absenteeism_time_in_hours'].mean().plot(kind='bar',title='Mean Absentism time per month',figsize=(14,6))\n",
    "plt.show()"
   ]
  },
  {
   "cell_type": "markdown",
   "metadata": {},
   "source": [
    "**Inference :** <br>\n",
    "From the above plot, It can be observed that the absence rate of employees is maximum in the month 7 which is 'July', followed by month 4, 3 , 12, 11, 6 ,5  which is 'April', 'March', 'December', 'June' and 'May' respectively."
   ]
  },
  {
   "cell_type": "code",
   "execution_count": 23,
   "metadata": {},
   "outputs": [
    {
     "data": {
      "image/png": "[encoded data removed]",
      "text/plain": [
       "<Figure size 1008x432 with 1 Axes>"
      ]
     },
     "metadata": {},
     "output_type": "display_data"
    }
   ],
   "source": [
    "data.groupby('Day_of_the_week')['Absenteeism_time_in_hours'].mean().plot(kind='bar',title='Mean Absentism time per day',figsize=(14,6))\n",
    "plt.show()"
   ]
  },
  {
   "cell_type": "markdown",
   "metadata": {},
   "source": [
    "**Inference :** <br>\n",
    "From the above plot, It can be observed that the absence rate of employees is maximum at day 3 which is 'Tuesday', followed by day 2,4,6,5  which is 'Monday', 'Wednesday', 'Friday' and 'Thursday' respectively."
   ]
  },
  {
   "cell_type": "code",
   "execution_count": 24,
   "metadata": {},
   "outputs": [
    {
     "data": {
      "image/png": "[encoded data removed]",
      "text/plain": [
       "<Figure size 1008x432 with 1 Axes>"
      ]
     },
     "metadata": {},
     "output_type": "display_data"
    }
   ],
   "source": [
    "data.groupby('Reason_for_absence')['Absenteeism_time_in_hours'].mean().plot(kind='bar',title='Mean Absentism for reason_for_absence ',figsize=(14,6))\n",
    "plt.show()"
   ]
  },
  {
   "cell_type": "markdown",
   "metadata": {},
   "source": [
    "**Inference :** <br>\n",
    "From the above plot, It can be observed that the absence rate of employees is maximum due to the reason of 'Diseases of the circulatory system' followed by 'Neoplasms', 'Diseases of the nervous system', 'Diseases of the skin and subcutaneous tissue' and 'Injury, poisoning and certain other consequences of external causes'"
   ]
  },
  {
   "cell_type": "code",
   "execution_count": 25,
   "metadata": {},
   "outputs": [
    {
     "data": {
      "image/png": "[encoded data removed]",
      "text/plain": [
       "<Figure size 1008x432 with 1 Axes>"
      ]
     },
     "metadata": {},
     "output_type": "display_data"
    }
   ],
   "source": [
    "data.groupby('ID')['Absenteeism_time_in_hours'].mean().plot(kind='bar',title='Mean Absentism per ID ',figsize=(14,6))\n",
    "plt.show()"
   ]
  },
  {
   "cell_type": "markdown",
   "metadata": {},
   "source": [
    "**Inference :** <br>\n",
    " - From the above plot, It can be observed that the absence rate is maximum for employee with ID : 9, followed by employyes with ID : 7,26,14,13, 36, 11 and 6.\n",
    " - Employee with employee ID : 4,8 and 35 never absents and are very much regular to work"
   ]
  },
  {
   "cell_type": "code",
   "execution_count": 26,
   "metadata": {},
   "outputs": [
    {
     "data": {
      "text/plain": [
       "<matplotlib.axes._subplots.AxesSubplot at 0x11dc40588>"
      ]
     },
     "execution_count": 26,
     "metadata": {},
     "output_type": "execute_result"
    },
    {
     "data": {
      "image/png": "[encoded data removed]",
      "text/plain": [
       "<Figure size 1296x576 with 1 Axes>"
      ]
     },
     "metadata": {},
     "output_type": "display_data"
    }
   ],
   "source": [
    "a = data.pivot_table(values = 'Absenteeism_time_in_hours' , index = ['Seasons','Day_of_the_week'], columns = ['Month_of_absence'] )\n",
    "a.plot(kind ='bar',width = 2, figsize= (18, 8))"
   ]
  },
  {
   "cell_type": "code",
   "execution_count": 27,
   "metadata": {},
   "outputs": [
    {
     "data": {
      "image/png": "[encoded data removed]",
      "text/plain": [
       "<Figure size 1224x864 with 25 Axes>"
      ]
     },
     "metadata": {},
     "output_type": "display_data"
    }
   ],
   "source": [
    "from matplotlib import pyplot\n",
    "data.hist(figsize=(17,12))\n",
    "pyplot.show()"
   ]
  },
  {
   "cell_type": "code",
   "execution_count": null,
   "metadata": {
    "collapsed": true
   },
   "outputs": [],
   "source": []
  },
  {
   "cell_type": "code",
   "execution_count": 28,
   "metadata": {
    "scrolled": false
   },
   "outputs": [
    {
     "data": {
      "image/png": "[encoded data removed]",
      "text/plain": [
       "<Figure size 1080x432 with 24 Axes>"
      ]
     },
     "metadata": {},
     "output_type": "display_data"
    }
   ],
   "source": [
    "import matplotlib.pyplot as plt\n",
    "data.plot(kind='density', subplots=True, layout=(8,3), sharex=False) \n",
    "plt.subplots_adjust(left=0.125, bottom=0.1, right=0.9, top= 2,wspace=0.2, hspace=0.2)\n",
    "pyplot.show()"
   ]
  },
  {
   "cell_type": "markdown",
   "metadata": {},
   "source": [
    "**Inference :** <br>\n",
    "From the above plot, It can be observed that none of the features follow Normal distribution. Every feature follows some random distribution."
   ]
  },
  {
   "cell_type": "markdown",
   "metadata": {},
   "source": [
    "## 2.6 Outliers detection"
   ]
  },
  {
   "cell_type": "code",
   "execution_count": 29,
   "metadata": {},
   "outputs": [
    {
     "data": {
      "image/png": "[encoded data removed]",
      "text/plain": [
       "<Figure size 1080x432 with 24 Axes>"
      ]
     },
     "metadata": {},
     "output_type": "display_data"
    }
   ],
   "source": [
    "data.plot(kind='box', subplots=True, layout=(8,3), sharex=False, sharey=False, fontsize=8)\n",
    "plt.subplots_adjust(left=0.125, bottom=0.1, right=0.9, top= 3,wspace=0.2, hspace=0.2)\n",
    "pyplot.show()"
   ]
  },
  {
   "cell_type": "markdown",
   "metadata": {},
   "source": [
    "Our dataset contains both Continuous and Categorical Fetaures. So, lets split the features into categorical and Continuous so that it becomes easy to visualise the outliers."
   ]
  },
  {
   "cell_type": "markdown",
   "metadata": {},
   "source": [
    "**Inference : ** <br>\n",
    "So, From the above box plot, we can see that not all the continuos features contains outliers. \n",
    " - Features like 'ID', 'Seasons', 'Month_of_absense', 'Day_of_the week', 'Distance_from_residence_to_work', 'Body_mass_index' does not contains any Outliers at all.\n",
    " - Features like  'Service_time', 'Work_load_Average\\day, 'Transportation_expense', 'Hit_target', contains a few outliers.\n",
    " - It can also be seen that features like 'Absenteeism_time_in_hours', 'Height' contains the most number of outliers."
   ]
  },
  {
   "cell_type": "code",
   "execution_count": 30,
   "metadata": {},
   "outputs": [
    {
     "name": "stdout",
     "output_type": "stream",
     "text": [
      "Imputing row 1/718 with 0 missing, elapsed time: 0.152\n",
      "Imputing row 101/718 with 0 missing, elapsed time: 0.154\n",
      "Imputing row 201/718 with 1 missing, elapsed time: 0.155\n",
      "Imputing row 301/718 with 0 missing, elapsed time: 0.158\n",
      "Imputing row 401/718 with 0 missing, elapsed time: 0.160\n",
      "Imputing row 501/718 with 0 missing, elapsed time: 0.162\n",
      "Imputing row 601/718 with 2 missing, elapsed time: 0.164\n",
      "Imputing row 701/718 with 0 missing, elapsed time: 0.167\n"
     ]
    },
    {
     "data": {
      "text/plain": [
       "0"
      ]
     },
     "execution_count": 30,
     "metadata": {},
     "output_type": "execute_result"
    }
   ],
   "source": [
    "from fancyimpute import KNN \n",
    "cnames =['Service_time', 'Age', 'Work_load_Average/day_', 'Transportation_expense',\n",
    "       'Hit_target', 'Height', 'Absenteeism_time_in_hours']       \n",
    "\n",
    "for i in cnames:\n",
    "    \n",
    "    q75, q25 = np.percentile(data[i], [75,25])       # Getting 75th and 25th Percentile\n",
    "    iqr = q75 - q25                                  # Calculating Interquartile range\n",
    "    \n",
    "    lower_fence = q25 - (iqr*1.5)                    # upper fence\n",
    "    upper_fence = q75 + (iqr*1.5)                    # Lower fence\n",
    "    \n",
    "    data.loc[data[i]< lower_fence,i] = np.nan        # Replacing the values with NA\n",
    "    data.loc[data[i]> upper_fence,i] = np.nan\n",
    "\n",
    "\n",
    "data = pd.DataFrame(KNN(k = 3).complete(data), columns = data.columns) # Imputing missing values with KNN\n",
    "data.isnull().sum().sum()  # Checking if there is any missing value"
   ]
  },
  {
   "cell_type": "markdown",
   "metadata": {},
   "source": [
    "#### Box Plot after dealing with Outliers"
   ]
  },
  {
   "cell_type": "code",
   "execution_count": 31,
   "metadata": {},
   "outputs": [
    {
     "data": {
      "image/png": "[encoded data removed]",
      "text/plain": [
       "<Figure size 1080x432 with 24 Axes>"
      ]
     },
     "metadata": {},
     "output_type": "display_data"
    }
   ],
   "source": [
    "data.plot(kind='box', subplots=True, layout=(8,3), sharex=False, sharey=False, fontsize=8)\n",
    "plt.subplots_adjust(left=0.125, bottom=0.1, right=0.9, top= 3,wspace=0.2, hspace=0.2)\n",
    "pyplot.show()"
   ]
  },
  {
   "cell_type": "code",
   "execution_count": 32,
   "metadata": {},
   "outputs": [
    {
     "data": {
      "text/plain": [
       "ID                                 0\n",
       "Reason_for_absence                 0\n",
       "Month_of_absence                   0\n",
       "Day_of_the_week                    0\n",
       "Seasons                            0\n",
       "Transportation_expense             0\n",
       "Distance_from_Residence_to_Work    0\n",
       "Service_time                       0\n",
       "Age                                0\n",
       "Work_load_Average/day_             0\n",
       "Hit_target                         0\n",
       "Disciplinary_failure               0\n",
       "Education                          0\n",
       "Son                                0\n",
       "Social_drinker                     0\n",
       "Social_smoker                      0\n",
       "Pet                                0\n",
       "Weight                             0\n",
       "Height                             0\n",
       "Body_mass_index                    0\n",
       "Absenteeism_time_in_hours          0\n",
       "dtype: int64"
      ]
     },
     "execution_count": 32,
     "metadata": {},
     "output_type": "execute_result"
    }
   ],
   "source": [
    "data.isnull().sum()"
   ]
  },
  {
   "cell_type": "code",
   "execution_count": 33,
   "metadata": {
    "collapsed": true
   },
   "outputs": [],
   "source": [
    "data_loss = data.copy()"
   ]
  },
  {
   "cell_type": "markdown",
   "metadata": {},
   "source": [
    "## 2.7 Handling Categorical Features"
   ]
  },
  {
   "cell_type": "code",
   "execution_count": 34,
   "metadata": {
    "collapsed": true
   },
   "outputs": [],
   "source": [
    "Seasons_dummies = pd.get_dummies(data.Seasons , drop_first=True , prefix = 'Seasons')\n",
    "month_of_absence_dummies = pd.get_dummies(data.Month_of_absence , drop_first=True , prefix = 'Month_of_absence')\n",
    "day_of_week_dummies = pd.get_dummies(data.Day_of_the_week , drop_first= True , prefix = 'Day_of_the_week')\n",
    "Reason_for_absence_dummies = pd.get_dummies(data.Reason_for_absence , drop_first= True , prefix = 'Reason_for_absence')\n",
    "ID_dummies = pd.get_dummies(data.ID , drop_first= True , prefix = 'ID')\n",
    "Education_dummies = pd.get_dummies(data.Education , drop_first= True , prefix = 'Education')\n",
    "Pet_dummies = pd.get_dummies(data.Pet , drop_first= True , prefix = 'Pet')\n",
    "Son_dummies = pd.get_dummies(data.Pet , drop_first= True , prefix = 'Son')"
   ]
  },
  {
   "cell_type": "code",
   "execution_count": 35,
   "metadata": {
    "collapsed": true
   },
   "outputs": [],
   "source": [
    "data = pd.concat([data , Seasons_dummies], axis = 1)\n",
    "data = pd.concat([data , month_of_absence_dummies], axis = 1)\n",
    "data = pd.concat([data , day_of_week_dummies], axis = 1)\n",
    "data = pd.concat([data , Reason_for_absence_dummies], axis = 1)\n",
    "data = pd.concat([data , ID_dummies], axis = 1)\n",
    "data = pd.concat([data ,Education_dummies ], axis = 1)\n",
    "data = pd.concat([data ,Pet_dummies ], axis = 1)\n",
    "data = pd.concat([data ,Son_dummies ], axis = 1)"
   ]
  },
  {
   "cell_type": "code",
   "execution_count": 36,
   "metadata": {
    "collapsed": true
   },
   "outputs": [],
   "source": [
    "data.drop('Seasons', axis=1, inplace=True)\n",
    "data.drop('Month_of_absence', axis=1, inplace=True)\n",
    "data.drop('Day_of_the_week', axis=1, inplace=True)\n",
    "data.drop('Reason_for_absence', axis=1, inplace=True)\n",
    "data.drop('ID', axis=1, inplace=True)\n",
    "data.drop('Education', axis=1, inplace=True)\n",
    "data.drop('Pet', axis=1, inplace=True)\n",
    "data.drop('Son', axis=1, inplace=True)"
   ]
  },
  {
   "cell_type": "code",
   "execution_count": 37,
   "metadata": {},
   "outputs": [
    {
     "data": {
      "text/plain": [
       "(718, 117)"
      ]
     },
     "execution_count": 37,
     "metadata": {},
     "output_type": "execute_result"
    }
   ],
   "source": [
    "data.shape"
   ]
  },
  {
   "cell_type": "markdown",
   "metadata": {},
   "source": [
    "## Splittng The data"
   ]
  },
  {
   "cell_type": "code",
   "execution_count": 38,
   "metadata": {
    "collapsed": true
   },
   "outputs": [],
   "source": [
    "X_train = data.loc[:,data.columns != 'Absenteeism_time_in_hours']\n",
    "y_train = data['Absenteeism_time_in_hours']"
   ]
  },
  {
   "cell_type": "markdown",
   "metadata": {},
   "source": [
    "## 2.8 Feature Scaling "
   ]
  },
  {
   "cell_type": "code",
   "execution_count": 39,
   "metadata": {},
   "outputs": [
    {
     "name": "stderr",
     "output_type": "stream",
     "text": [
      "/Users/akash/anaconda3/lib/python3.6/site-packages/ipykernel_launcher.py:2: SettingWithCopyWarning: \n",
      "A value is trying to be set on a copy of a slice from a DataFrame.\n",
      "Try using .loc[row_indexer,col_indexer] = value instead\n",
      "\n",
      "See the caveats in the documentation: http://pandas.pydata.org/pandas-docs/stable/indexing.html#indexing-view-versus-copy\n",
      "  \n"
     ]
    }
   ],
   "source": [
    "for i in X_train.columns:\n",
    "    X_train[i] = (X_train[i] - X_train[i].min())/ (X_train[i].max() - X_train[i].min())"
   ]
  },
  {
   "cell_type": "code",
   "execution_count": 40,
   "metadata": {},
   "outputs": [
    {
     "data": {
      "text/html": [
       "<div>\n",
       "<style scoped>\n",
       "    .dataframe tbody tr th:only-of-type {\n",
       "        vertical-align: middle;\n",
       "    }\n",
       "\n",
       "    .dataframe tbody tr th {\n",
       "        vertical-align: top;\n",
       "    }\n",
       "\n",
       "    .dataframe thead th {\n",
       "        text-align: right;\n",
       "    }\n",
       "</style>\n",
       "<table border=\"1\" class=\"dataframe\">\n",
       "  <thead>\n",
       "    <tr style=\"text-align: right;\">\n",
       "      <th></th>\n",
       "      <th>Transportation_expense</th>\n",
       "      <th>Distance_from_Residence_to_Work</th>\n",
       "      <th>Service_time</th>\n",
       "      <th>Age</th>\n",
       "      <th>Work_load_Average/day_</th>\n",
       "      <th>Hit_target</th>\n",
       "      <th>Disciplinary_failure</th>\n",
       "      <th>Social_drinker</th>\n",
       "      <th>Social_smoker</th>\n",
       "      <th>Weight</th>\n",
       "      <th>Height</th>\n",
       "      <th>Body_mass_index</th>\n",
       "      <th>Seasons_2.0</th>\n",
       "      <th>Seasons_3.0</th>\n",
       "      <th>Seasons_4.0</th>\n",
       "      <th>Month_of_absence_1.0</th>\n",
       "      <th>Month_of_absence_2.0</th>\n",
       "      <th>Month_of_absence_3.0</th>\n",
       "      <th>Month_of_absence_4.0</th>\n",
       "      <th>Month_of_absence_5.0</th>\n",
       "      <th>Month_of_absence_6.0</th>\n",
       "      <th>Month_of_absence_7.0</th>\n",
       "      <th>Month_of_absence_8.0</th>\n",
       "      <th>Month_of_absence_9.0</th>\n",
       "      <th>Month_of_absence_10.0</th>\n",
       "      <th>Month_of_absence_10.00000040690432</th>\n",
       "      <th>Month_of_absence_11.0</th>\n",
       "      <th>Month_of_absence_12.0</th>\n",
       "      <th>Day_of_the_week_3.0</th>\n",
       "      <th>Day_of_the_week_4.0</th>\n",
       "      <th>Day_of_the_week_5.0</th>\n",
       "      <th>Day_of_the_week_6.0</th>\n",
       "      <th>Reason_for_absence_1.0</th>\n",
       "      <th>Reason_for_absence_2.0</th>\n",
       "      <th>Reason_for_absence_3.0</th>\n",
       "      <th>Reason_for_absence_4.0</th>\n",
       "      <th>Reason_for_absence_5.0</th>\n",
       "      <th>Reason_for_absence_6.0</th>\n",
       "      <th>Reason_for_absence_7.0</th>\n",
       "      <th>Reason_for_absence_8.0</th>\n",
       "      <th>Reason_for_absence_9.0</th>\n",
       "      <th>Reason_for_absence_10.0</th>\n",
       "      <th>Reason_for_absence_11.0</th>\n",
       "      <th>Reason_for_absence_12.0</th>\n",
       "      <th>Reason_for_absence_13.0</th>\n",
       "      <th>Reason_for_absence_14.0</th>\n",
       "      <th>Reason_for_absence_15.0</th>\n",
       "      <th>Reason_for_absence_16.0</th>\n",
       "      <th>Reason_for_absence_17.0</th>\n",
       "      <th>Reason_for_absence_18.0</th>\n",
       "      <th>Reason_for_absence_19.0</th>\n",
       "      <th>Reason_for_absence_20.071734033382903</th>\n",
       "      <th>Reason_for_absence_21.0</th>\n",
       "      <th>Reason_for_absence_22.0</th>\n",
       "      <th>Reason_for_absence_23.0</th>\n",
       "      <th>Reason_for_absence_24.0</th>\n",
       "      <th>Reason_for_absence_25.0</th>\n",
       "      <th>Reason_for_absence_26.0</th>\n",
       "      <th>Reason_for_absence_27.0</th>\n",
       "      <th>Reason_for_absence_27.377656270604714</th>\n",
       "      <th>Reason_for_absence_27.984457962217437</th>\n",
       "      <th>Reason_for_absence_28.0</th>\n",
       "      <th>ID_2.0</th>\n",
       "      <th>ID_3.0</th>\n",
       "      <th>ID_4.0</th>\n",
       "      <th>ID_5.0</th>\n",
       "      <th>ID_6.0</th>\n",
       "      <th>ID_7.0</th>\n",
       "      <th>ID_8.0</th>\n",
       "      <th>ID_9.0</th>\n",
       "      <th>ID_10.0</th>\n",
       "      <th>ID_11.0</th>\n",
       "      <th>ID_12.0</th>\n",
       "      <th>ID_13.0</th>\n",
       "      <th>ID_14.0</th>\n",
       "      <th>ID_15.0</th>\n",
       "      <th>ID_16.0</th>\n",
       "      <th>ID_17.0</th>\n",
       "      <th>ID_18.0</th>\n",
       "      <th>ID_19.0</th>\n",
       "      <th>ID_20.0</th>\n",
       "      <th>ID_21.0</th>\n",
       "      <th>ID_22.0</th>\n",
       "      <th>ID_23.0</th>\n",
       "      <th>ID_24.0</th>\n",
       "      <th>ID_25.0</th>\n",
       "      <th>ID_26.0</th>\n",
       "      <th>ID_27.0</th>\n",
       "      <th>ID_28.0</th>\n",
       "      <th>ID_29.0</th>\n",
       "      <th>ID_30.0</th>\n",
       "      <th>ID_31.0</th>\n",
       "      <th>ID_32.0</th>\n",
       "      <th>ID_33.0</th>\n",
       "      <th>ID_34.0</th>\n",
       "      <th>ID_35.0</th>\n",
       "      <th>ID_36.0</th>\n",
       "      <th>Education_0.9999999910449356</th>\n",
       "      <th>Education_1.0</th>\n",
       "      <th>Education_1.0000000046716917</th>\n",
       "      <th>Education_1.0000000613102742</th>\n",
       "      <th>Education_2.0</th>\n",
       "      <th>Education_3.0</th>\n",
       "      <th>Education_4.0</th>\n",
       "      <th>Pet_1.0</th>\n",
       "      <th>Pet_1.0000000061366812</th>\n",
       "      <th>Pet_2.0</th>\n",
       "      <th>Pet_4.0</th>\n",
       "      <th>Pet_5.0</th>\n",
       "      <th>Pet_8.0</th>\n",
       "      <th>Son_1.0</th>\n",
       "      <th>Son_1.0000000061366812</th>\n",
       "      <th>Son_2.0</th>\n",
       "      <th>Son_4.0</th>\n",
       "      <th>Son_5.0</th>\n",
       "      <th>Son_8.0</th>\n",
       "    </tr>\n",
       "  </thead>\n",
       "  <tbody>\n",
       "    <tr>\n",
       "      <th>0</th>\n",
       "      <td>0.657692</td>\n",
       "      <td>0.659574</td>\n",
       "      <td>0.521739</td>\n",
       "      <td>0.230769</td>\n",
       "      <td>0.244925</td>\n",
       "      <td>0.769231</td>\n",
       "      <td>0.0</td>\n",
       "      <td>1.0</td>\n",
       "      <td>0.0</td>\n",
       "      <td>0.653846</td>\n",
       "      <td>0.700000</td>\n",
       "      <td>0.578947</td>\n",
       "      <td>0.0</td>\n",
       "      <td>0.0</td>\n",
       "      <td>0.0</td>\n",
       "      <td>0.0</td>\n",
       "      <td>0.0</td>\n",
       "      <td>0.0</td>\n",
       "      <td>0.0</td>\n",
       "      <td>0.0</td>\n",
       "      <td>0.0</td>\n",
       "      <td>1.0</td>\n",
       "      <td>0.0</td>\n",
       "      <td>0.0</td>\n",
       "      <td>0.0</td>\n",
       "      <td>0.0</td>\n",
       "      <td>0.0</td>\n",
       "      <td>0.0</td>\n",
       "      <td>1.0</td>\n",
       "      <td>0.0</td>\n",
       "      <td>0.0</td>\n",
       "      <td>0.0</td>\n",
       "      <td>0.0</td>\n",
       "      <td>0.0</td>\n",
       "      <td>0.0</td>\n",
       "      <td>0.0</td>\n",
       "      <td>0.0</td>\n",
       "      <td>0.0</td>\n",
       "      <td>0.0</td>\n",
       "      <td>0.0</td>\n",
       "      <td>0.0</td>\n",
       "      <td>0.0</td>\n",
       "      <td>0.0</td>\n",
       "      <td>0.0</td>\n",
       "      <td>0.0</td>\n",
       "      <td>0.0</td>\n",
       "      <td>0.0</td>\n",
       "      <td>0.0</td>\n",
       "      <td>0.0</td>\n",
       "      <td>0.0</td>\n",
       "      <td>0.0</td>\n",
       "      <td>0.0</td>\n",
       "      <td>0.0</td>\n",
       "      <td>0.0</td>\n",
       "      <td>0.0</td>\n",
       "      <td>0.0</td>\n",
       "      <td>0.0</td>\n",
       "      <td>1.0</td>\n",
       "      <td>0.0</td>\n",
       "      <td>0.0</td>\n",
       "      <td>0.0</td>\n",
       "      <td>0.0</td>\n",
       "      <td>0.0</td>\n",
       "      <td>0.0</td>\n",
       "      <td>0.0</td>\n",
       "      <td>0.0</td>\n",
       "      <td>0.0</td>\n",
       "      <td>0.0</td>\n",
       "      <td>0.0</td>\n",
       "      <td>0.0</td>\n",
       "      <td>0.0</td>\n",
       "      <td>1.0</td>\n",
       "      <td>0.0</td>\n",
       "      <td>0.0</td>\n",
       "      <td>0.0</td>\n",
       "      <td>0.0</td>\n",
       "      <td>0.0</td>\n",
       "      <td>0.0</td>\n",
       "      <td>0.0</td>\n",
       "      <td>0.0</td>\n",
       "      <td>0.0</td>\n",
       "      <td>0.0</td>\n",
       "      <td>0.0</td>\n",
       "      <td>0.0</td>\n",
       "      <td>0.0</td>\n",
       "      <td>0.0</td>\n",
       "      <td>0.0</td>\n",
       "      <td>0.0</td>\n",
       "      <td>0.0</td>\n",
       "      <td>0.0</td>\n",
       "      <td>0.0</td>\n",
       "      <td>0.0</td>\n",
       "      <td>0.0</td>\n",
       "      <td>0.0</td>\n",
       "      <td>0.0</td>\n",
       "      <td>0.0</td>\n",
       "      <td>0.0</td>\n",
       "      <td>0.0</td>\n",
       "      <td>1.0</td>\n",
       "      <td>0.0</td>\n",
       "      <td>0.0</td>\n",
       "      <td>0.0</td>\n",
       "      <td>0.0</td>\n",
       "      <td>0.0</td>\n",
       "      <td>1.0</td>\n",
       "      <td>0.0</td>\n",
       "      <td>0.0</td>\n",
       "      <td>0.0</td>\n",
       "      <td>0.0</td>\n",
       "      <td>0.0</td>\n",
       "      <td>1.0</td>\n",
       "      <td>0.0</td>\n",
       "      <td>0.0</td>\n",
       "      <td>0.0</td>\n",
       "      <td>0.0</td>\n",
       "      <td>0.0</td>\n",
       "    </tr>\n",
       "    <tr>\n",
       "      <th>1</th>\n",
       "      <td>0.000000</td>\n",
       "      <td>0.170213</td>\n",
       "      <td>0.739130</td>\n",
       "      <td>0.884615</td>\n",
       "      <td>0.244925</td>\n",
       "      <td>0.769231</td>\n",
       "      <td>1.0</td>\n",
       "      <td>1.0</td>\n",
       "      <td>0.0</td>\n",
       "      <td>0.807692</td>\n",
       "      <td>0.500001</td>\n",
       "      <td>0.631579</td>\n",
       "      <td>0.0</td>\n",
       "      <td>0.0</td>\n",
       "      <td>0.0</td>\n",
       "      <td>0.0</td>\n",
       "      <td>0.0</td>\n",
       "      <td>0.0</td>\n",
       "      <td>0.0</td>\n",
       "      <td>0.0</td>\n",
       "      <td>0.0</td>\n",
       "      <td>1.0</td>\n",
       "      <td>0.0</td>\n",
       "      <td>0.0</td>\n",
       "      <td>0.0</td>\n",
       "      <td>0.0</td>\n",
       "      <td>0.0</td>\n",
       "      <td>0.0</td>\n",
       "      <td>1.0</td>\n",
       "      <td>0.0</td>\n",
       "      <td>0.0</td>\n",
       "      <td>0.0</td>\n",
       "      <td>0.0</td>\n",
       "      <td>0.0</td>\n",
       "      <td>0.0</td>\n",
       "      <td>0.0</td>\n",
       "      <td>0.0</td>\n",
       "      <td>0.0</td>\n",
       "      <td>0.0</td>\n",
       "      <td>0.0</td>\n",
       "      <td>0.0</td>\n",
       "      <td>0.0</td>\n",
       "      <td>0.0</td>\n",
       "      <td>0.0</td>\n",
       "      <td>0.0</td>\n",
       "      <td>0.0</td>\n",
       "      <td>0.0</td>\n",
       "      <td>0.0</td>\n",
       "      <td>0.0</td>\n",
       "      <td>0.0</td>\n",
       "      <td>0.0</td>\n",
       "      <td>0.0</td>\n",
       "      <td>0.0</td>\n",
       "      <td>0.0</td>\n",
       "      <td>0.0</td>\n",
       "      <td>0.0</td>\n",
       "      <td>0.0</td>\n",
       "      <td>0.0</td>\n",
       "      <td>0.0</td>\n",
       "      <td>0.0</td>\n",
       "      <td>0.0</td>\n",
       "      <td>0.0</td>\n",
       "      <td>0.0</td>\n",
       "      <td>0.0</td>\n",
       "      <td>0.0</td>\n",
       "      <td>0.0</td>\n",
       "      <td>0.0</td>\n",
       "      <td>0.0</td>\n",
       "      <td>0.0</td>\n",
       "      <td>0.0</td>\n",
       "      <td>0.0</td>\n",
       "      <td>0.0</td>\n",
       "      <td>0.0</td>\n",
       "      <td>0.0</td>\n",
       "      <td>0.0</td>\n",
       "      <td>0.0</td>\n",
       "      <td>0.0</td>\n",
       "      <td>0.0</td>\n",
       "      <td>0.0</td>\n",
       "      <td>0.0</td>\n",
       "      <td>0.0</td>\n",
       "      <td>0.0</td>\n",
       "      <td>0.0</td>\n",
       "      <td>0.0</td>\n",
       "      <td>0.0</td>\n",
       "      <td>0.0</td>\n",
       "      <td>0.0</td>\n",
       "      <td>0.0</td>\n",
       "      <td>0.0</td>\n",
       "      <td>0.0</td>\n",
       "      <td>0.0</td>\n",
       "      <td>0.0</td>\n",
       "      <td>0.0</td>\n",
       "      <td>0.0</td>\n",
       "      <td>0.0</td>\n",
       "      <td>0.0</td>\n",
       "      <td>1.0</td>\n",
       "      <td>0.0</td>\n",
       "      <td>1.0</td>\n",
       "      <td>0.0</td>\n",
       "      <td>0.0</td>\n",
       "      <td>0.0</td>\n",
       "      <td>0.0</td>\n",
       "      <td>0.0</td>\n",
       "      <td>0.0</td>\n",
       "      <td>0.0</td>\n",
       "      <td>0.0</td>\n",
       "      <td>0.0</td>\n",
       "      <td>0.0</td>\n",
       "      <td>0.0</td>\n",
       "      <td>0.0</td>\n",
       "      <td>0.0</td>\n",
       "      <td>0.0</td>\n",
       "      <td>0.0</td>\n",
       "      <td>0.0</td>\n",
       "      <td>0.0</td>\n",
       "    </tr>\n",
       "    <tr>\n",
       "      <th>2</th>\n",
       "      <td>0.234615</td>\n",
       "      <td>0.978723</td>\n",
       "      <td>0.739130</td>\n",
       "      <td>0.423077</td>\n",
       "      <td>0.244925</td>\n",
       "      <td>0.769231</td>\n",
       "      <td>0.0</td>\n",
       "      <td>1.0</td>\n",
       "      <td>0.0</td>\n",
       "      <td>0.634615</td>\n",
       "      <td>0.500000</td>\n",
       "      <td>0.631579</td>\n",
       "      <td>0.0</td>\n",
       "      <td>0.0</td>\n",
       "      <td>0.0</td>\n",
       "      <td>0.0</td>\n",
       "      <td>0.0</td>\n",
       "      <td>0.0</td>\n",
       "      <td>0.0</td>\n",
       "      <td>0.0</td>\n",
       "      <td>0.0</td>\n",
       "      <td>1.0</td>\n",
       "      <td>0.0</td>\n",
       "      <td>0.0</td>\n",
       "      <td>0.0</td>\n",
       "      <td>0.0</td>\n",
       "      <td>0.0</td>\n",
       "      <td>0.0</td>\n",
       "      <td>0.0</td>\n",
       "      <td>1.0</td>\n",
       "      <td>0.0</td>\n",
       "      <td>0.0</td>\n",
       "      <td>0.0</td>\n",
       "      <td>0.0</td>\n",
       "      <td>0.0</td>\n",
       "      <td>0.0</td>\n",
       "      <td>0.0</td>\n",
       "      <td>0.0</td>\n",
       "      <td>0.0</td>\n",
       "      <td>0.0</td>\n",
       "      <td>0.0</td>\n",
       "      <td>0.0</td>\n",
       "      <td>0.0</td>\n",
       "      <td>0.0</td>\n",
       "      <td>0.0</td>\n",
       "      <td>0.0</td>\n",
       "      <td>0.0</td>\n",
       "      <td>0.0</td>\n",
       "      <td>0.0</td>\n",
       "      <td>0.0</td>\n",
       "      <td>0.0</td>\n",
       "      <td>0.0</td>\n",
       "      <td>0.0</td>\n",
       "      <td>0.0</td>\n",
       "      <td>1.0</td>\n",
       "      <td>0.0</td>\n",
       "      <td>0.0</td>\n",
       "      <td>0.0</td>\n",
       "      <td>0.0</td>\n",
       "      <td>0.0</td>\n",
       "      <td>0.0</td>\n",
       "      <td>0.0</td>\n",
       "      <td>0.0</td>\n",
       "      <td>1.0</td>\n",
       "      <td>0.0</td>\n",
       "      <td>0.0</td>\n",
       "      <td>0.0</td>\n",
       "      <td>0.0</td>\n",
       "      <td>0.0</td>\n",
       "      <td>0.0</td>\n",
       "      <td>0.0</td>\n",
       "      <td>0.0</td>\n",
       "      <td>0.0</td>\n",
       "      <td>0.0</td>\n",
       "      <td>0.0</td>\n",
       "      <td>0.0</td>\n",
       "      <td>0.0</td>\n",
       "      <td>0.0</td>\n",
       "      <td>0.0</td>\n",
       "      <td>0.0</td>\n",
       "      <td>0.0</td>\n",
       "      <td>0.0</td>\n",
       "      <td>0.0</td>\n",
       "      <td>0.0</td>\n",
       "      <td>0.0</td>\n",
       "      <td>0.0</td>\n",
       "      <td>0.0</td>\n",
       "      <td>0.0</td>\n",
       "      <td>0.0</td>\n",
       "      <td>0.0</td>\n",
       "      <td>0.0</td>\n",
       "      <td>0.0</td>\n",
       "      <td>0.0</td>\n",
       "      <td>0.0</td>\n",
       "      <td>0.0</td>\n",
       "      <td>0.0</td>\n",
       "      <td>0.0</td>\n",
       "      <td>0.0</td>\n",
       "      <td>1.0</td>\n",
       "      <td>0.0</td>\n",
       "      <td>0.0</td>\n",
       "      <td>0.0</td>\n",
       "      <td>0.0</td>\n",
       "      <td>0.0</td>\n",
       "      <td>0.0</td>\n",
       "      <td>0.0</td>\n",
       "      <td>0.0</td>\n",
       "      <td>0.0</td>\n",
       "      <td>0.0</td>\n",
       "      <td>0.0</td>\n",
       "      <td>0.0</td>\n",
       "      <td>0.0</td>\n",
       "      <td>0.0</td>\n",
       "      <td>0.0</td>\n",
       "      <td>0.0</td>\n",
       "      <td>0.0</td>\n",
       "    </tr>\n",
       "    <tr>\n",
       "      <th>3</th>\n",
       "      <td>0.619231</td>\n",
       "      <td>0.000000</td>\n",
       "      <td>0.565217</td>\n",
       "      <td>0.461538</td>\n",
       "      <td>0.244925</td>\n",
       "      <td>0.769231</td>\n",
       "      <td>0.0</td>\n",
       "      <td>1.0</td>\n",
       "      <td>1.0</td>\n",
       "      <td>0.230769</td>\n",
       "      <td>0.300000</td>\n",
       "      <td>0.263158</td>\n",
       "      <td>0.0</td>\n",
       "      <td>0.0</td>\n",
       "      <td>0.0</td>\n",
       "      <td>0.0</td>\n",
       "      <td>0.0</td>\n",
       "      <td>0.0</td>\n",
       "      <td>0.0</td>\n",
       "      <td>0.0</td>\n",
       "      <td>0.0</td>\n",
       "      <td>1.0</td>\n",
       "      <td>0.0</td>\n",
       "      <td>0.0</td>\n",
       "      <td>0.0</td>\n",
       "      <td>0.0</td>\n",
       "      <td>0.0</td>\n",
       "      <td>0.0</td>\n",
       "      <td>0.0</td>\n",
       "      <td>0.0</td>\n",
       "      <td>1.0</td>\n",
       "      <td>0.0</td>\n",
       "      <td>0.0</td>\n",
       "      <td>0.0</td>\n",
       "      <td>0.0</td>\n",
       "      <td>0.0</td>\n",
       "      <td>0.0</td>\n",
       "      <td>0.0</td>\n",
       "      <td>1.0</td>\n",
       "      <td>0.0</td>\n",
       "      <td>0.0</td>\n",
       "      <td>0.0</td>\n",
       "      <td>0.0</td>\n",
       "      <td>0.0</td>\n",
       "      <td>0.0</td>\n",
       "      <td>0.0</td>\n",
       "      <td>0.0</td>\n",
       "      <td>0.0</td>\n",
       "      <td>0.0</td>\n",
       "      <td>0.0</td>\n",
       "      <td>0.0</td>\n",
       "      <td>0.0</td>\n",
       "      <td>0.0</td>\n",
       "      <td>0.0</td>\n",
       "      <td>0.0</td>\n",
       "      <td>0.0</td>\n",
       "      <td>0.0</td>\n",
       "      <td>0.0</td>\n",
       "      <td>0.0</td>\n",
       "      <td>0.0</td>\n",
       "      <td>0.0</td>\n",
       "      <td>0.0</td>\n",
       "      <td>0.0</td>\n",
       "      <td>0.0</td>\n",
       "      <td>0.0</td>\n",
       "      <td>0.0</td>\n",
       "      <td>0.0</td>\n",
       "      <td>1.0</td>\n",
       "      <td>0.0</td>\n",
       "      <td>0.0</td>\n",
       "      <td>0.0</td>\n",
       "      <td>0.0</td>\n",
       "      <td>0.0</td>\n",
       "      <td>0.0</td>\n",
       "      <td>0.0</td>\n",
       "      <td>0.0</td>\n",
       "      <td>0.0</td>\n",
       "      <td>0.0</td>\n",
       "      <td>0.0</td>\n",
       "      <td>0.0</td>\n",
       "      <td>0.0</td>\n",
       "      <td>0.0</td>\n",
       "      <td>0.0</td>\n",
       "      <td>0.0</td>\n",
       "      <td>0.0</td>\n",
       "      <td>0.0</td>\n",
       "      <td>0.0</td>\n",
       "      <td>0.0</td>\n",
       "      <td>0.0</td>\n",
       "      <td>0.0</td>\n",
       "      <td>0.0</td>\n",
       "      <td>0.0</td>\n",
       "      <td>0.0</td>\n",
       "      <td>0.0</td>\n",
       "      <td>0.0</td>\n",
       "      <td>0.0</td>\n",
       "      <td>0.0</td>\n",
       "      <td>0.0</td>\n",
       "      <td>1.0</td>\n",
       "      <td>0.0</td>\n",
       "      <td>0.0</td>\n",
       "      <td>0.0</td>\n",
       "      <td>0.0</td>\n",
       "      <td>0.0</td>\n",
       "      <td>0.0</td>\n",
       "      <td>0.0</td>\n",
       "      <td>0.0</td>\n",
       "      <td>0.0</td>\n",
       "      <td>0.0</td>\n",
       "      <td>0.0</td>\n",
       "      <td>0.0</td>\n",
       "      <td>0.0</td>\n",
       "      <td>0.0</td>\n",
       "      <td>0.0</td>\n",
       "      <td>0.0</td>\n",
       "      <td>0.0</td>\n",
       "    </tr>\n",
       "    <tr>\n",
       "      <th>4</th>\n",
       "      <td>0.657692</td>\n",
       "      <td>0.659574</td>\n",
       "      <td>0.521739</td>\n",
       "      <td>0.230769</td>\n",
       "      <td>0.244925</td>\n",
       "      <td>0.769231</td>\n",
       "      <td>0.0</td>\n",
       "      <td>1.0</td>\n",
       "      <td>0.0</td>\n",
       "      <td>0.653846</td>\n",
       "      <td>0.700000</td>\n",
       "      <td>0.578947</td>\n",
       "      <td>0.0</td>\n",
       "      <td>0.0</td>\n",
       "      <td>0.0</td>\n",
       "      <td>0.0</td>\n",
       "      <td>0.0</td>\n",
       "      <td>0.0</td>\n",
       "      <td>0.0</td>\n",
       "      <td>0.0</td>\n",
       "      <td>0.0</td>\n",
       "      <td>1.0</td>\n",
       "      <td>0.0</td>\n",
       "      <td>0.0</td>\n",
       "      <td>0.0</td>\n",
       "      <td>0.0</td>\n",
       "      <td>0.0</td>\n",
       "      <td>0.0</td>\n",
       "      <td>0.0</td>\n",
       "      <td>0.0</td>\n",
       "      <td>1.0</td>\n",
       "      <td>0.0</td>\n",
       "      <td>0.0</td>\n",
       "      <td>0.0</td>\n",
       "      <td>0.0</td>\n",
       "      <td>0.0</td>\n",
       "      <td>0.0</td>\n",
       "      <td>0.0</td>\n",
       "      <td>0.0</td>\n",
       "      <td>0.0</td>\n",
       "      <td>0.0</td>\n",
       "      <td>0.0</td>\n",
       "      <td>0.0</td>\n",
       "      <td>0.0</td>\n",
       "      <td>0.0</td>\n",
       "      <td>0.0</td>\n",
       "      <td>0.0</td>\n",
       "      <td>0.0</td>\n",
       "      <td>0.0</td>\n",
       "      <td>0.0</td>\n",
       "      <td>0.0</td>\n",
       "      <td>0.0</td>\n",
       "      <td>0.0</td>\n",
       "      <td>0.0</td>\n",
       "      <td>1.0</td>\n",
       "      <td>0.0</td>\n",
       "      <td>0.0</td>\n",
       "      <td>0.0</td>\n",
       "      <td>0.0</td>\n",
       "      <td>0.0</td>\n",
       "      <td>0.0</td>\n",
       "      <td>0.0</td>\n",
       "      <td>0.0</td>\n",
       "      <td>0.0</td>\n",
       "      <td>0.0</td>\n",
       "      <td>0.0</td>\n",
       "      <td>0.0</td>\n",
       "      <td>0.0</td>\n",
       "      <td>0.0</td>\n",
       "      <td>0.0</td>\n",
       "      <td>0.0</td>\n",
       "      <td>1.0</td>\n",
       "      <td>0.0</td>\n",
       "      <td>0.0</td>\n",
       "      <td>0.0</td>\n",
       "      <td>0.0</td>\n",
       "      <td>0.0</td>\n",
       "      <td>0.0</td>\n",
       "      <td>0.0</td>\n",
       "      <td>0.0</td>\n",
       "      <td>0.0</td>\n",
       "      <td>0.0</td>\n",
       "      <td>0.0</td>\n",
       "      <td>0.0</td>\n",
       "      <td>0.0</td>\n",
       "      <td>0.0</td>\n",
       "      <td>0.0</td>\n",
       "      <td>0.0</td>\n",
       "      <td>0.0</td>\n",
       "      <td>0.0</td>\n",
       "      <td>0.0</td>\n",
       "      <td>0.0</td>\n",
       "      <td>0.0</td>\n",
       "      <td>0.0</td>\n",
       "      <td>0.0</td>\n",
       "      <td>0.0</td>\n",
       "      <td>0.0</td>\n",
       "      <td>0.0</td>\n",
       "      <td>1.0</td>\n",
       "      <td>0.0</td>\n",
       "      <td>0.0</td>\n",
       "      <td>0.0</td>\n",
       "      <td>0.0</td>\n",
       "      <td>0.0</td>\n",
       "      <td>1.0</td>\n",
       "      <td>0.0</td>\n",
       "      <td>0.0</td>\n",
       "      <td>0.0</td>\n",
       "      <td>0.0</td>\n",
       "      <td>0.0</td>\n",
       "      <td>1.0</td>\n",
       "      <td>0.0</td>\n",
       "      <td>0.0</td>\n",
       "      <td>0.0</td>\n",
       "      <td>0.0</td>\n",
       "      <td>0.0</td>\n",
       "    </tr>\n",
       "  </tbody>\n",
       "</table>\n",
       "</div>"
      ],
      "text/plain": [
       "   Transportation_expense  Distance_from_Residence_to_Work  Service_time  \\\n",
       "0                0.657692                         0.659574      0.521739   \n",
       "1                0.000000                         0.170213      0.739130   \n",
       "2                0.234615                         0.978723      0.739130   \n",
       "3                0.619231                         0.000000      0.565217   \n",
       "4                0.657692                         0.659574      0.521739   \n",
       "\n",
       "        Age  Work_load_Average/day_  Hit_target  Disciplinary_failure  \\\n",
       "0  0.230769                0.244925    0.769231                   0.0   \n",
       "1  0.884615                0.244925    0.769231                   1.0   \n",
       "2  0.423077                0.244925    0.769231                   0.0   \n",
       "3  0.461538                0.244925    0.769231                   0.0   \n",
       "4  0.230769                0.244925    0.769231                   0.0   \n",
       "\n",
       "   Social_drinker  Social_smoker    Weight    Height  Body_mass_index  \\\n",
       "0             1.0            0.0  0.653846  0.700000         0.578947   \n",
       "1             1.0            0.0  0.807692  0.500001         0.631579   \n",
       "2             1.0            0.0  0.634615  0.500000         0.631579   \n",
       "3             1.0            1.0  0.230769  0.300000         0.263158   \n",
       "4             1.0            0.0  0.653846  0.700000         0.578947   \n",
       "\n",
       "   Seasons_2.0  Seasons_3.0  Seasons_4.0  Month_of_absence_1.0  \\\n",
       "0          0.0          0.0          0.0                   0.0   \n",
       "1          0.0          0.0          0.0                   0.0   \n",
       "2          0.0          0.0          0.0                   0.0   \n",
       "3          0.0          0.0          0.0                   0.0   \n",
       "4          0.0          0.0          0.0                   0.0   \n",
       "\n",
       "   Month_of_absence_2.0  Month_of_absence_3.0  Month_of_absence_4.0  \\\n",
       "0                   0.0                   0.0                   0.0   \n",
       "1                   0.0                   0.0                   0.0   \n",
       "2                   0.0                   0.0                   0.0   \n",
       "3                   0.0                   0.0                   0.0   \n",
       "4                   0.0                   0.0                   0.0   \n",
       "\n",
       "   Month_of_absence_5.0  Month_of_absence_6.0  Month_of_absence_7.0  \\\n",
       "0                   0.0                   0.0                   1.0   \n",
       "1                   0.0                   0.0                   1.0   \n",
       "2                   0.0                   0.0                   1.0   \n",
       "3                   0.0                   0.0                   1.0   \n",
       "4                   0.0                   0.0                   1.0   \n",
       "\n",
       "   Month_of_absence_8.0  Month_of_absence_9.0  Month_of_absence_10.0  \\\n",
       "0                   0.0                   0.0                    0.0   \n",
       "1                   0.0                   0.0                    0.0   \n",
       "2                   0.0                   0.0                    0.0   \n",
       "3                   0.0                   0.0                    0.0   \n",
       "4                   0.0                   0.0                    0.0   \n",
       "\n",
       "   Month_of_absence_10.00000040690432  Month_of_absence_11.0  \\\n",
       "0                                 0.0                    0.0   \n",
       "1                                 0.0                    0.0   \n",
       "2                                 0.0                    0.0   \n",
       "3                                 0.0                    0.0   \n",
       "4                                 0.0                    0.0   \n",
       "\n",
       "   Month_of_absence_12.0  Day_of_the_week_3.0  Day_of_the_week_4.0  \\\n",
       "0                    0.0                  1.0                  0.0   \n",
       "1                    0.0                  1.0                  0.0   \n",
       "2                    0.0                  0.0                  1.0   \n",
       "3                    0.0                  0.0                  0.0   \n",
       "4                    0.0                  0.0                  0.0   \n",
       "\n",
       "   Day_of_the_week_5.0  Day_of_the_week_6.0  Reason_for_absence_1.0  \\\n",
       "0                  0.0                  0.0                     0.0   \n",
       "1                  0.0                  0.0                     0.0   \n",
       "2                  0.0                  0.0                     0.0   \n",
       "3                  1.0                  0.0                     0.0   \n",
       "4                  1.0                  0.0                     0.0   \n",
       "\n",
       "   Reason_for_absence_2.0  Reason_for_absence_3.0  Reason_for_absence_4.0  \\\n",
       "0                     0.0                     0.0                     0.0   \n",
       "1                     0.0                     0.0                     0.0   \n",
       "2                     0.0                     0.0                     0.0   \n",
       "3                     0.0                     0.0                     0.0   \n",
       "4                     0.0                     0.0                     0.0   \n",
       "\n",
       "   Reason_for_absence_5.0  Reason_for_absence_6.0  Reason_for_absence_7.0  \\\n",
       "0                     0.0                     0.0                     0.0   \n",
       "1                     0.0                     0.0                     0.0   \n",
       "2                     0.0                     0.0                     0.0   \n",
       "3                     0.0                     0.0                     1.0   \n",
       "4                     0.0                     0.0                     0.0   \n",
       "\n",
       "   Reason_for_absence_8.0  Reason_for_absence_9.0  Reason_for_absence_10.0  \\\n",
       "0                     0.0                     0.0                      0.0   \n",
       "1                     0.0                     0.0                      0.0   \n",
       "2                     0.0                     0.0                      0.0   \n",
       "3                     0.0                     0.0                      0.0   \n",
       "4                     0.0                     0.0                      0.0   \n",
       "\n",
       "   Reason_for_absence_11.0  Reason_for_absence_12.0  Reason_for_absence_13.0  \\\n",
       "0                      0.0                      0.0                      0.0   \n",
       "1                      0.0                      0.0                      0.0   \n",
       "2                      0.0                      0.0                      0.0   \n",
       "3                      0.0                      0.0                      0.0   \n",
       "4                      0.0                      0.0                      0.0   \n",
       "\n",
       "   Reason_for_absence_14.0  Reason_for_absence_15.0  Reason_for_absence_16.0  \\\n",
       "0                      0.0                      0.0                      0.0   \n",
       "1                      0.0                      0.0                      0.0   \n",
       "2                      0.0                      0.0                      0.0   \n",
       "3                      0.0                      0.0                      0.0   \n",
       "4                      0.0                      0.0                      0.0   \n",
       "\n",
       "   Reason_for_absence_17.0  Reason_for_absence_18.0  Reason_for_absence_19.0  \\\n",
       "0                      0.0                      0.0                      0.0   \n",
       "1                      0.0                      0.0                      0.0   \n",
       "2                      0.0                      0.0                      0.0   \n",
       "3                      0.0                      0.0                      0.0   \n",
       "4                      0.0                      0.0                      0.0   \n",
       "\n",
       "   Reason_for_absence_20.071734033382903  Reason_for_absence_21.0  \\\n",
       "0                                    0.0                      0.0   \n",
       "1                                    0.0                      0.0   \n",
       "2                                    0.0                      0.0   \n",
       "3                                    0.0                      0.0   \n",
       "4                                    0.0                      0.0   \n",
       "\n",
       "   Reason_for_absence_22.0  Reason_for_absence_23.0  Reason_for_absence_24.0  \\\n",
       "0                      0.0                      0.0                      0.0   \n",
       "1                      0.0                      0.0                      0.0   \n",
       "2                      0.0                      1.0                      0.0   \n",
       "3                      0.0                      0.0                      0.0   \n",
       "4                      0.0                      1.0                      0.0   \n",
       "\n",
       "   Reason_for_absence_25.0  Reason_for_absence_26.0  Reason_for_absence_27.0  \\\n",
       "0                      0.0                      1.0                      0.0   \n",
       "1                      0.0                      0.0                      0.0   \n",
       "2                      0.0                      0.0                      0.0   \n",
       "3                      0.0                      0.0                      0.0   \n",
       "4                      0.0                      0.0                      0.0   \n",
       "\n",
       "   Reason_for_absence_27.377656270604714  \\\n",
       "0                                    0.0   \n",
       "1                                    0.0   \n",
       "2                                    0.0   \n",
       "3                                    0.0   \n",
       "4                                    0.0   \n",
       "\n",
       "   Reason_for_absence_27.984457962217437  Reason_for_absence_28.0  ID_2.0  \\\n",
       "0                                    0.0                      0.0     0.0   \n",
       "1                                    0.0                      0.0     0.0   \n",
       "2                                    0.0                      0.0     0.0   \n",
       "3                                    0.0                      0.0     0.0   \n",
       "4                                    0.0                      0.0     0.0   \n",
       "\n",
       "   ID_3.0  ID_4.0  ID_5.0  ID_6.0  ID_7.0  ID_8.0  ID_9.0  ID_10.0  ID_11.0  \\\n",
       "0     0.0     0.0     0.0     0.0     0.0     0.0     0.0      0.0      1.0   \n",
       "1     0.0     0.0     0.0     0.0     0.0     0.0     0.0      0.0      0.0   \n",
       "2     1.0     0.0     0.0     0.0     0.0     0.0     0.0      0.0      0.0   \n",
       "3     0.0     0.0     0.0     0.0     1.0     0.0     0.0      0.0      0.0   \n",
       "4     0.0     0.0     0.0     0.0     0.0     0.0     0.0      0.0      1.0   \n",
       "\n",
       "   ID_12.0  ID_13.0  ID_14.0  ID_15.0  ID_16.0  ID_17.0  ID_18.0  ID_19.0  \\\n",
       "0      0.0      0.0      0.0      0.0      0.0      0.0      0.0      0.0   \n",
       "1      0.0      0.0      0.0      0.0      0.0      0.0      0.0      0.0   \n",
       "2      0.0      0.0      0.0      0.0      0.0      0.0      0.0      0.0   \n",
       "3      0.0      0.0      0.0      0.0      0.0      0.0      0.0      0.0   \n",
       "4      0.0      0.0      0.0      0.0      0.0      0.0      0.0      0.0   \n",
       "\n",
       "   ID_20.0  ID_21.0  ID_22.0  ID_23.0  ID_24.0  ID_25.0  ID_26.0  ID_27.0  \\\n",
       "0      0.0      0.0      0.0      0.0      0.0      0.0      0.0      0.0   \n",
       "1      0.0      0.0      0.0      0.0      0.0      0.0      0.0      0.0   \n",
       "2      0.0      0.0      0.0      0.0      0.0      0.0      0.0      0.0   \n",
       "3      0.0      0.0      0.0      0.0      0.0      0.0      0.0      0.0   \n",
       "4      0.0      0.0      0.0      0.0      0.0      0.0      0.0      0.0   \n",
       "\n",
       "   ID_28.0  ID_29.0  ID_30.0  ID_31.0  ID_32.0  ID_33.0  ID_34.0  ID_35.0  \\\n",
       "0      0.0      0.0      0.0      0.0      0.0      0.0      0.0      0.0   \n",
       "1      0.0      0.0      0.0      0.0      0.0      0.0      0.0      0.0   \n",
       "2      0.0      0.0      0.0      0.0      0.0      0.0      0.0      0.0   \n",
       "3      0.0      0.0      0.0      0.0      0.0      0.0      0.0      0.0   \n",
       "4      0.0      0.0      0.0      0.0      0.0      0.0      0.0      0.0   \n",
       "\n",
       "   ID_36.0  Education_0.9999999910449356  Education_1.0  \\\n",
       "0      0.0                           0.0            1.0   \n",
       "1      1.0                           0.0            1.0   \n",
       "2      0.0                           0.0            1.0   \n",
       "3      0.0                           0.0            1.0   \n",
       "4      0.0                           0.0            1.0   \n",
       "\n",
       "   Education_1.0000000046716917  Education_1.0000000613102742  Education_2.0  \\\n",
       "0                           0.0                           0.0            0.0   \n",
       "1                           0.0                           0.0            0.0   \n",
       "2                           0.0                           0.0            0.0   \n",
       "3                           0.0                           0.0            0.0   \n",
       "4                           0.0                           0.0            0.0   \n",
       "\n",
       "   Education_3.0  Education_4.0  Pet_1.0  Pet_1.0000000061366812  Pet_2.0  \\\n",
       "0            0.0            0.0      1.0                     0.0      0.0   \n",
       "1            0.0            0.0      0.0                     0.0      0.0   \n",
       "2            0.0            0.0      0.0                     0.0      0.0   \n",
       "3            0.0            0.0      0.0                     0.0      0.0   \n",
       "4            0.0            0.0      1.0                     0.0      0.0   \n",
       "\n",
       "   Pet_4.0  Pet_5.0  Pet_8.0  Son_1.0  Son_1.0000000061366812  Son_2.0  \\\n",
       "0      0.0      0.0      0.0      1.0                     0.0      0.0   \n",
       "1      0.0      0.0      0.0      0.0                     0.0      0.0   \n",
       "2      0.0      0.0      0.0      0.0                     0.0      0.0   \n",
       "3      0.0      0.0      0.0      0.0                     0.0      0.0   \n",
       "4      0.0      0.0      0.0      1.0                     0.0      0.0   \n",
       "\n",
       "   Son_4.0  Son_5.0  Son_8.0  \n",
       "0      0.0      0.0      0.0  \n",
       "1      0.0      0.0      0.0  \n",
       "2      0.0      0.0      0.0  \n",
       "3      0.0      0.0      0.0  \n",
       "4      0.0      0.0      0.0  "
      ]
     },
     "execution_count": 40,
     "metadata": {},
     "output_type": "execute_result"
    }
   ],
   "source": [
    "X_train.head(5)"
   ]
  },
  {
   "cell_type": "code",
   "execution_count": 41,
   "metadata": {},
   "outputs": [
    {
     "data": {
      "text/plain": [
       "(718, 116)"
      ]
     },
     "execution_count": 41,
     "metadata": {},
     "output_type": "execute_result"
    }
   ],
   "source": [
    "X_train.shape"
   ]
  },
  {
   "cell_type": "markdown",
   "metadata": {},
   "source": [
    "## 2.9 PCA Visualisation Of the data"
   ]
  },
  {
   "cell_type": "code",
   "execution_count": 42,
   "metadata": {
    "collapsed": true
   },
   "outputs": [],
   "source": [
    "from sklearn.decomposition import PCA\n",
    "\n",
    "pca = PCA(n_components=2)\n",
    "y_Pca = pca.fit_transform(X_train)"
   ]
  },
  {
   "cell_type": "code",
   "execution_count": 43,
   "metadata": {},
   "outputs": [
    {
     "data": {
      "image/png": "[encoded data removed]",
      "text/plain": [
       "<Figure size 1224x576 with 2 Axes>"
      ]
     },
     "metadata": {},
     "output_type": "display_data"
    }
   ],
   "source": [
    "plt.scatter(y_Pca[:, 0], y_Pca[:, 1],\n",
    "            c=y_train, edgecolor='none', alpha=0.5,\n",
    "            cmap=plt.cm.get_cmap('winter', 10))\n",
    "plt.xlabel('component 1')\n",
    "plt.ylabel('component 2')\n",
    "plt.gcf().set_size_inches((17, 8)) \n",
    "plt.colorbar();"
   ]
  },
  {
   "cell_type": "markdown",
   "metadata": {},
   "source": [
    "**Inference : ** <br>\n",
    "From the above plot, we can observe that there are three cluster of points and concentrated around a space."
   ]
  },
  {
   "cell_type": "markdown",
   "metadata": {},
   "source": [
    "## 2.10 Feature Selection"
   ]
  },
  {
   "cell_type": "markdown",
   "metadata": {},
   "source": [
    "#### Removing Correlated Features"
   ]
  },
  {
   "cell_type": "code",
   "execution_count": 44,
   "metadata": {},
   "outputs": [
    {
     "name": "stdout",
     "output_type": "stream",
     "text": [
      "correlated features:  12\n"
     ]
    }
   ],
   "source": [
    "# find and remove correlated features\n",
    "def correlation(dataset, threshold):\n",
    "    col_corr = set()  # Set of all the names of correlated columns\n",
    "    corr_matrix = dataset.corr()\n",
    "    for i in range(len(corr_matrix.columns)):\n",
    "        for j in range(i):\n",
    "            if abs(corr_matrix.iloc[i, j]) > threshold: # we are interested in absolute coeff value\n",
    "                colname = corr_matrix.columns[i]  # getting the name of column\n",
    "                col_corr.add(colname)\n",
    "    return col_corr\n",
    "\n",
    "corr_features = correlation(X_train, 0.8)\n",
    "print('correlated features: ', len(set(corr_features)) )"
   ]
  },
  {
   "cell_type": "code",
   "execution_count": 45,
   "metadata": {},
   "outputs": [
    {
     "name": "stderr",
     "output_type": "stream",
     "text": [
      "/Users/akash/anaconda3/lib/python3.6/site-packages/ipykernel_launcher.py:1: SettingWithCopyWarning: \n",
      "A value is trying to be set on a copy of a slice from a DataFrame\n",
      "\n",
      "See the caveats in the documentation: http://pandas.pydata.org/pandas-docs/stable/indexing.html#indexing-view-versus-copy\n",
      "  \"\"\"Entry point for launching an IPython kernel.\n"
     ]
    }
   ],
   "source": [
    "X_train.drop(labels=corr_features, axis=1, inplace=True)"
   ]
  },
  {
   "cell_type": "markdown",
   "metadata": {},
   "source": [
    "** Dimensionality Reduction using PCA **"
   ]
  },
  {
   "cell_type": "code",
   "execution_count": 46,
   "metadata": {},
   "outputs": [
    {
     "data": {
      "image/png": "[encoded data removed]",
      "text/plain": [
       "<Figure size 1080x432 with 1 Axes>"
      ]
     },
     "metadata": {},
     "output_type": "display_data"
    }
   ],
   "source": [
    "from sklearn.decomposition import PCA\n",
    "pca = PCA(n_components=102)\n",
    "pca.fit(X_train)\n",
    "var= pca.explained_variance_ratio_\n",
    "var1=np.cumsum(np.round(pca.explained_variance_ratio_, decimals=4)*100)\n",
    "plt.plot(var1)\n",
    "plt.show()"
   ]
  },
  {
   "cell_type": "markdown",
   "metadata": {},
   "source": [
    "**Inference :** <br>\n",
    "We can see that, almost 98%+ variance is explained by just 45 variables. S0, we will reduce the components to 45."
   ]
  },
  {
   "cell_type": "code",
   "execution_count": 47,
   "metadata": {
    "collapsed": true
   },
   "outputs": [],
   "source": [
    "pca = PCA(n_components=45)\n",
    "X = pca.fit(X_train).transform(X_train)\n",
    "X_train, X_test, y_train, y_test = train_test_split(X, y_train, test_size=0.2)"
   ]
  },
  {
   "cell_type": "code",
   "execution_count": 48,
   "metadata": {},
   "outputs": [
    {
     "data": {
      "text/plain": [
       "(574, 45)"
      ]
     },
     "execution_count": 48,
     "metadata": {},
     "output_type": "execute_result"
    }
   ],
   "source": [
    "X_train.shape"
   ]
  },
  {
   "cell_type": "code",
   "execution_count": 49,
   "metadata": {
    "collapsed": true
   },
   "outputs": [],
   "source": [
    "#X_train, X_test, y_train, y_test = train_test_split(X_train, y_train, test_size=0.2)"
   ]
  },
  {
   "cell_type": "markdown",
   "metadata": {},
   "source": [
    "# 3. Model Selection"
   ]
  },
  {
   "cell_type": "markdown",
   "metadata": {},
   "source": [
    "## 3.1 KNN Regressor"
   ]
  },
  {
   "cell_type": "code",
   "execution_count": 83,
   "metadata": {
    "collapsed": true
   },
   "outputs": [],
   "source": [
    "from sklearn.metrics import mean_squared_error\n",
    "from math import sqrt"
   ]
  },
  {
   "cell_type": "code",
   "execution_count": 84,
   "metadata": {
    "collapsed": true
   },
   "outputs": [],
   "source": [
    "from sklearn.neighbors import KNeighborsRegressor\n",
    "def train_KNN(n_neigh):\n",
    "    knn = KNeighborsRegressor(n_neighbors= n_neigh)\n",
    "    knn_model = knn.fit(X_train, y_train)\n",
    "    y_pred = knn_model.predict(X_test)\n",
    "    print('n_neighbours : {}  ----KNN rmse: {}'.format(n_neigh,(sqrt(mean_squared_error(y_test,y_pred)))))"
   ]
  },
  {
   "cell_type": "code",
   "execution_count": 85,
   "metadata": {},
   "outputs": [
    {
     "name": "stdout",
     "output_type": "stream",
     "text": [
      "n_neighbours : 3  ----KNN rmse: 3.2771303320204117\n",
      "n_neighbours : 5  ----KNN rmse: 3.2969532623884037\n",
      "n_neighbours : 7  ----KNN rmse: 3.133879386133967\n",
      "n_neighbours : 10  ----KNN rmse: 3.1491079321856175\n",
      "n_neighbours : 15  ----KNN rmse: 3.1806522911087223\n",
      "n_neighbours : 20  ----KNN rmse: 3.2365215265617078\n",
      "n_neighbours : 25  ----KNN rmse: 3.295862770277186\n",
      "n_neighbours : 30  ----KNN rmse: 3.298778697933586\n"
     ]
    }
   ],
   "source": [
    "for n_neigh in [3,5,7,10,15,20,25,30]:\n",
    "    train_KNN(n_neigh)"
   ]
  },
  {
   "cell_type": "code",
   "execution_count": 86,
   "metadata": {
    "collapsed": true
   },
   "outputs": [],
   "source": [
    "KNN_model = KNeighborsRegressor(n_neighbors= 7).fit(X_train , y_train)\n",
    "KNN_pred_train = KNN_model.predict(X_train)\n",
    "KNN_pred= KNN_model.predict(X_test)"
   ]
  },
  {
   "cell_type": "code",
   "execution_count": 87,
   "metadata": {},
   "outputs": [
    {
     "name": "stdout",
     "output_type": "stream",
     "text": [
      "Train Data\n",
      "n_neighbours : 30  ----KNN rmse: 2.569442138772699\n",
      "Test Data\n",
      "n_neighbours : 30  ----KNN rmse: 3.133879386133967\n"
     ]
    }
   ],
   "source": [
    "print(\"Train Data\")\n",
    "print('n_neighbours : {}  ----KNN rmse: {}'.format(n_neigh,  (sqrt(mean_squared_error(y_train,KNN_pred_train)))))\n",
    "print(\"Test Data\")\n",
    "print('n_neighbours : {}  ----KNN rmse: {}'.format(n_neigh,  (sqrt(mean_squared_error(y_test,KNN_pred)))))"
   ]
  },
  {
   "cell_type": "markdown",
   "metadata": {},
   "source": [
    "## 3.2 Multiple Linear Regression"
   ]
  },
  {
   "cell_type": "markdown",
   "metadata": {},
   "source": [
    "### 3.2.1 Ordinary Least Squares"
   ]
  },
  {
   "cell_type": "code",
   "execution_count": 88,
   "metadata": {},
   "outputs": [],
   "source": [
    "from sklearn.linear_model import LinearRegression\n",
    "ols = LinearRegression()\n",
    "ols_model = ols.fit(X_train, y_train)\n",
    "y_pred_train = ols_model.predict(X_train)\n",
    "y_pred = ols_model.predict(X_test)"
   ]
  },
  {
   "cell_type": "code",
   "execution_count": 89,
   "metadata": {},
   "outputs": [
    {
     "name": "stdout",
     "output_type": "stream",
     "text": [
      "Train Data\n",
      "Ordinary Least Squares rmse: 2.4809689820449905\n",
      "Test Data\n",
      "Ordinary Least Squares rmse: 2.9322004502045598\n"
     ]
    }
   ],
   "source": [
    "print(\"Train Data\")\n",
    "print('Ordinary Least Squares rmse: {}'.format(sqrt(mean_squared_error(y_train,y_pred_train))))\n",
    "print(\"Test Data\")\n",
    "print('Ordinary Least Squares rmse: {}'.format(sqrt(mean_squared_error(y_test,y_pred))))"
   ]
  },
  {
   "cell_type": "markdown",
   "metadata": {
    "collapsed": true
   },
   "source": [
    "### 3.2.2 Ridge Regression"
   ]
  },
  {
   "cell_type": "code",
   "execution_count": 90,
   "metadata": {
    "collapsed": true
   },
   "outputs": [],
   "source": [
    "from sklearn.linear_model import Ridge\n",
    "def train_ridge(alpha):\n",
    "    ridge = Ridge(alpha= alpha)\n",
    "    ridge_model = ridge.fit(X_train, y_train)\n",
    "    y_pred = ridge_model.predict(X_test)\n",
    "    print('alpha : {}  ----Ridge rmse: {}'.format(alpha, (sqrt(mean_squared_error(y_test,y_pred)))))"
   ]
  },
  {
   "cell_type": "code",
   "execution_count": 91,
   "metadata": {},
   "outputs": [
    {
     "name": "stdout",
     "output_type": "stream",
     "text": [
      "alpha : 0.1  ----Ridge rmse: 2.9318517847852146\n",
      "alpha : 0.5  ----Ridge rmse: 2.9306923969197776\n",
      "alpha : 1.0  ----Ridge rmse: 2.9297259985686837\n",
      "alpha : 3.0  ----Ridge rmse: 2.930017778921405\n",
      "alpha : 7.0  ----Ridge rmse: 2.9422780131534036\n",
      "alpha : 10.0  ----Ridge rmse: 2.9561255563519233\n"
     ]
    }
   ],
   "source": [
    "for alpha in [0.1,0.5, 1.0,3.0,7.0,10.0]:\n",
    "    train_ridge(alpha)"
   ]
  },
  {
   "cell_type": "code",
   "execution_count": 92,
   "metadata": {
    "collapsed": true
   },
   "outputs": [],
   "source": [
    "ridge_model = Ridge(alpha= 1.0).fit(X_train , y_train)\n",
    "ridge_pred_train = ridge_model.predict(X_train)\n",
    "ridge_pred= ridge_model.predict(X_test)"
   ]
  },
  {
   "cell_type": "code",
   "execution_count": 93,
   "metadata": {},
   "outputs": [
    {
     "name": "stdout",
     "output_type": "stream",
     "text": [
      "Train Data\n",
      "Ridge rmse: 2.4818979517047466\n",
      "Test Data\n",
      "Ridge rmse: 2.9297259985686837\n"
     ]
    }
   ],
   "source": [
    "print(\"Train Data\")\n",
    "print('Ridge rmse: {}'.format(sqrt(mean_squared_error(y_train,ridge_pred_train))))\n",
    "print(\"Test Data\")\n",
    "print('Ridge rmse: {}'.format(sqrt(mean_squared_error(y_test,ridge_pred))))"
   ]
  },
  {
   "cell_type": "markdown",
   "metadata": {},
   "source": [
    "### 3.2.3 Lasso Regression"
   ]
  },
  {
   "cell_type": "code",
   "execution_count": 94,
   "metadata": {
    "collapsed": true
   },
   "outputs": [],
   "source": [
    "from sklearn.linear_model import Lasso\n",
    "def train_lasso(alpha):\n",
    "    lasso = Lasso(alpha= alpha)\n",
    "    lasso_model = lasso.fit(X_train, y_train)\n",
    "    y_pred = lasso_model.predict(X_test)\n",
    "    print('alpha : {}  ---- Lasso rmse: {}'.format(alpha,(sqrt(mean_squared_error(y_test,y_pred)))))"
   ]
  },
  {
   "cell_type": "code",
   "execution_count": 95,
   "metadata": {},
   "outputs": [
    {
     "name": "stdout",
     "output_type": "stream",
     "text": [
      "alpha : 0.1  ---- Lasso rmse: 3.3978454773412103\n",
      "alpha : 0.5  ---- Lasso rmse: 3.575024659318149\n",
      "alpha : 1.0  ---- Lasso rmse: 3.575024659318149\n",
      "alpha : 3.0  ---- Lasso rmse: 3.575024659318149\n",
      "alpha : 7.0  ---- Lasso rmse: 3.575024659318149\n",
      "alpha : 10.0  ---- Lasso rmse: 3.575024659318149\n"
     ]
    }
   ],
   "source": [
    "for alpha in [0.1,0.5, 1.0,3.0,7.0,10.0]:\n",
    "    train_lasso(alpha)"
   ]
  },
  {
   "cell_type": "code",
   "execution_count": 96,
   "metadata": {
    "collapsed": true
   },
   "outputs": [],
   "source": [
    "lasso_model = Lasso(alpha= 0.1).fit(X_train , y_train)\n",
    "lasso_pred_train = lasso_model.predict(X_train)\n",
    "lasso_pred= lasso_model.predict(X_test)"
   ]
  },
  {
   "cell_type": "code",
   "execution_count": 97,
   "metadata": {},
   "outputs": [
    {
     "name": "stdout",
     "output_type": "stream",
     "text": [
      "Train Data\n",
      "Lasso rmse: 3.0074221080477126\n",
      "Test Data\n",
      "Lasso rmse: 3.3978454773412103\n"
     ]
    }
   ],
   "source": [
    "print(\"Train Data\")\n",
    "print('Lasso rmse: {}'.format(sqrt(mean_squared_error(y_train,lasso_pred_train))))\n",
    "print(\"Test Data\")\n",
    "print('Lasso rmse: {}'.format(sqrt(mean_squared_error(y_test,lasso_pred))))"
   ]
  },
  {
   "cell_type": "markdown",
   "metadata": {},
   "source": [
    "## 3.3 Support Vector Regression"
   ]
  },
  {
   "cell_type": "code",
   "execution_count": 98,
   "metadata": {
    "collapsed": true
   },
   "outputs": [],
   "source": [
    "from sklearn.svm import SVR\n",
    "def train_SVR(C, gamma):\n",
    "    svr = SVR(C= C, gamma = gamma)\n",
    "    svr_model = svr.fit(X_train, y_train)\n",
    "    y_pred = svr_model.predict(X_test)\n",
    "    print('C : {} , gamma : {} ----SVR rmse: {}'.format(C, gamma ,(sqrt(mean_squared_error(y_test,y_pred)))))"
   ]
  },
  {
   "cell_type": "code",
   "execution_count": 99,
   "metadata": {},
   "outputs": [
    {
     "name": "stdout",
     "output_type": "stream",
     "text": [
      "C : 1 , gamma : 0.001 ----SVR rmse: 3.6648014267730242\n",
      "C : 1 , gamma : 0.0001 ----SVR rmse: 3.710319229500777\n",
      "C : 10 , gamma : 0.001 ----SVR rmse: 3.413219570452218\n",
      "C : 10 , gamma : 0.0001 ----SVR rmse: 3.6644263313722987\n",
      "C : 100 , gamma : 0.001 ----SVR rmse: 2.905950820256187\n",
      "C : 100 , gamma : 0.0001 ----SVR rmse: 3.41209589870353\n",
      "C : 1000 , gamma : 0.001 ----SVR rmse: 2.8582796474908565\n",
      "C : 1000 , gamma : 0.0001 ----SVR rmse: 2.9066362290988543\n"
     ]
    }
   ],
   "source": [
    "for C in [1, 10, 100,1000]:\n",
    "    for gamma in [0.001, 0.0001]:\n",
    "        train_SVR(C, gamma)"
   ]
  },
  {
   "cell_type": "code",
   "execution_count": 100,
   "metadata": {
    "collapsed": true
   },
   "outputs": [],
   "source": [
    "svr_model = SVR(C= 1000, gamma = 0.001).fit(X_train , y_train)\n",
    "svr_pred_train = svr_model.predict(X_train)\n",
    "svr_pred= svr_model.predict(X_test)"
   ]
  },
  {
   "cell_type": "code",
   "execution_count": 101,
   "metadata": {},
   "outputs": [
    {
     "name": "stdout",
     "output_type": "stream",
     "text": [
      "Train Data\n",
      "Support Vector Regression rmse: 2.5496381347866364\n",
      "Test Data\n",
      "Support Vector Regression rmse: 2.8582796474908565\n"
     ]
    }
   ],
   "source": [
    "print(\"Train Data\")\n",
    "print('Support Vector Regression rmse: {}'.format(sqrt(mean_squared_error(y_train,svr_pred_train))))\n",
    "print(\"Test Data\")\n",
    "print('Support Vector Regression rmse: {}'.format(sqrt(mean_squared_error(y_test,svr_pred))))"
   ]
  },
  {
   "cell_type": "markdown",
   "metadata": {},
   "source": [
    "## 3.4 Decision Tree Regression"
   ]
  },
  {
   "cell_type": "code",
   "execution_count": 102,
   "metadata": {
    "collapsed": true
   },
   "outputs": [],
   "source": [
    "from sklearn import tree\n",
    "def DT(depth):\n",
    "    dt = tree.DecisionTreeRegressor( max_depth = depth)\n",
    "    dt_model = dt.fit(X_train, y_train)\n",
    "    y_pred = dt_model.predict(X_test)\n",
    "    print('depth : {} ----  Decision Tree rmse: {}'.format(depth,(sqrt(mean_squared_error(y_test,y_pred)))))\n",
    "    "
   ]
  },
  {
   "cell_type": "code",
   "execution_count": 103,
   "metadata": {},
   "outputs": [
    {
     "name": "stdout",
     "output_type": "stream",
     "text": [
      "depth : 1 ----  Decision Tree rmse: 3.594435991149782\n",
      "depth : 2 ----  Decision Tree rmse: 3.5041403354625533\n",
      "depth : 5 ----  Decision Tree rmse: 3.924181816430592\n",
      "depth : 10 ----  Decision Tree rmse: 4.285516530662745\n",
      "depth : 20 ----  Decision Tree rmse: 4.241797179765784\n",
      "depth : None ----  Decision Tree rmse: 4.164918269341106\n"
     ]
    }
   ],
   "source": [
    "for depth in [1,2,5,10,20,None]:\n",
    "    DT(depth)"
   ]
  },
  {
   "cell_type": "code",
   "execution_count": 104,
   "metadata": {
    "collapsed": true
   },
   "outputs": [],
   "source": [
    "dt_model = tree.DecisionTreeRegressor(max_depth =2).fit(X_train, y_train)\n",
    "dt_pred_train = dt_model.predict(X_train)\n",
    "dt_pred= dt_model.predict(X_test)"
   ]
  },
  {
   "cell_type": "code",
   "execution_count": 105,
   "metadata": {},
   "outputs": [
    {
     "name": "stdout",
     "output_type": "stream",
     "text": [
      "Train Data\n",
      "Decision Tree rmse: 3.0289576212855294\n",
      "Test Data\n",
      "Decision Tree rmse: 3.5041403354625533\n"
     ]
    }
   ],
   "source": [
    "print(\"Train Data\")\n",
    "print('Decision Tree rmse: {}'.format(sqrt(mean_squared_error(y_train,dt_pred_train))))\n",
    "print(\"Test Data\")\n",
    "print('Decision Tree rmse: {}'.format(sqrt(mean_squared_error(y_test,dt_pred))))"
   ]
  },
  {
   "cell_type": "markdown",
   "metadata": {},
   "source": [
    "## 3.5 Gradient Boosting"
   ]
  },
  {
   "cell_type": "code",
   "execution_count": 106,
   "metadata": {
    "collapsed": true
   },
   "outputs": [],
   "source": [
    "from sklearn.ensemble import GradientBoostingRegressor\n",
    "def GBR(depth, learning_rate):\n",
    "    gbr = GradientBoostingRegressor( max_depth = depth, learning_rate =learning_rate)\n",
    "    gbr_model = gbr.fit(X_train, y_train)\n",
    "    y_pred = dt_model.predict(X_test)\n",
    "    print('depth : {}, learning_rate{}  ---- Gradient Boosting Regression rmse: {}'.format(depth, learning_rate, (sqrt(mean_squared_error(y_test,y_pred)))))  \n",
    "    "
   ]
  },
  {
   "cell_type": "code",
   "execution_count": 107,
   "metadata": {},
   "outputs": [
    {
     "name": "stdout",
     "output_type": "stream",
     "text": [
      "depth : 1, learning_rate0.001  ---- Gradient Boosting Regression rmse: 3.5041403354625533\n",
      "depth : 1, learning_rate0.01  ---- Gradient Boosting Regression rmse: 3.5041403354625533\n",
      "depth : 1, learning_rate0.1  ---- Gradient Boosting Regression rmse: 3.5041403354625533\n",
      "depth : 2, learning_rate0.001  ---- Gradient Boosting Regression rmse: 3.5041403354625533\n",
      "depth : 2, learning_rate0.01  ---- Gradient Boosting Regression rmse: 3.5041403354625533\n",
      "depth : 2, learning_rate0.1  ---- Gradient Boosting Regression rmse: 3.5041403354625533\n",
      "depth : 5, learning_rate0.001  ---- Gradient Boosting Regression rmse: 3.5041403354625533\n",
      "depth : 5, learning_rate0.01  ---- Gradient Boosting Regression rmse: 3.5041403354625533\n",
      "depth : 5, learning_rate0.1  ---- Gradient Boosting Regression rmse: 3.5041403354625533\n",
      "depth : None, learning_rate0.001  ---- Gradient Boosting Regression rmse: 3.5041403354625533\n",
      "depth : None, learning_rate0.01  ---- Gradient Boosting Regression rmse: 3.5041403354625533\n",
      "depth : None, learning_rate0.1  ---- Gradient Boosting Regression rmse: 3.5041403354625533\n"
     ]
    }
   ],
   "source": [
    "for depth in [1,2,5,None]:\n",
    "    for learning_rate in [0.001,0.01,0.1]:\n",
    "        GBR(depth, learning_rate)"
   ]
  },
  {
   "cell_type": "code",
   "execution_count": 108,
   "metadata": {
    "collapsed": true
   },
   "outputs": [],
   "source": [
    "gbr_model = GradientBoostingRegressor(max_depth= 5,learning_rate = 0.001).fit(X_train , y_train)\n",
    "gbr_pred_train = gbr_model.predict(X_train)\n",
    "gbr_pred= gbr_model.predict(X_test)"
   ]
  },
  {
   "cell_type": "code",
   "execution_count": 109,
   "metadata": {},
   "outputs": [
    {
     "name": "stdout",
     "output_type": "stream",
     "text": [
      "Train Data\n",
      "GBDT rmse: 3.0289576212855294\n",
      "Test Data\n",
      "GBDT rmse: 3.5041403354625533\n"
     ]
    }
   ],
   "source": [
    "print(\"Train Data\")\n",
    "print('GBDT rmse: {}'.format(sqrt(mean_squared_error(y_train,dt_pred_train))))\n",
    "print(\"Test Data\")\n",
    "print('GBDT rmse: {}'.format(sqrt(mean_squared_error(y_test,dt_pred))))"
   ]
  },
  {
   "cell_type": "markdown",
   "metadata": {},
   "source": [
    "## 3.6 Random Forest Regression"
   ]
  },
  {
   "cell_type": "code",
   "execution_count": 110,
   "metadata": {
    "collapsed": true
   },
   "outputs": [],
   "source": [
    "from sklearn.ensemble import RandomForestRegressor\n",
    "def train_RF(n_est, depth):\n",
    "    rf = RandomForestRegressor(n_estimators=n_est, max_depth=depth, n_jobs=-1)\n",
    "    rf_model = rf.fit(X_train, y_train)\n",
    "    y_pred = rf_model.predict(X_test)\n",
    "    print('depth : {}, n_estimators : {}  ---- Random Forest Regression rmse: {}'.format(depth, n_est, (sqrt(mean_squared_error(y_test,y_pred)))))  \n"
   ]
  },
  {
   "cell_type": "code",
   "execution_count": 111,
   "metadata": {},
   "outputs": [
    {
     "name": "stdout",
     "output_type": "stream",
     "text": [
      "depth : 2, n_estimators : 100  ---- Random Forest Regression rmse: 3.3752641890194255\n",
      "depth : 5, n_estimators : 100  ---- Random Forest Regression rmse: 3.1324745370365124\n",
      "depth : 10, n_estimators : 100  ---- Random Forest Regression rmse: 2.9630682224848\n",
      "depth : 20, n_estimators : 100  ---- Random Forest Regression rmse: 2.9556744844292893\n",
      "depth : 30, n_estimators : 100  ---- Random Forest Regression rmse: 2.855535930330192\n",
      "depth : 2, n_estimators : 200  ---- Random Forest Regression rmse: 3.3728380188394467\n",
      "depth : 5, n_estimators : 200  ---- Random Forest Regression rmse: 3.151786494849254\n",
      "depth : 10, n_estimators : 200  ---- Random Forest Regression rmse: 2.929277979625689\n",
      "depth : 20, n_estimators : 200  ---- Random Forest Regression rmse: 2.8932530034499035\n",
      "depth : 30, n_estimators : 200  ---- Random Forest Regression rmse: 2.889155434948478\n",
      "depth : 2, n_estimators : 500  ---- Random Forest Regression rmse: 3.376184181121255\n",
      "depth : 5, n_estimators : 500  ---- Random Forest Regression rmse: 3.1280553886812745\n",
      "depth : 10, n_estimators : 500  ---- Random Forest Regression rmse: 2.9472885660313213\n",
      "depth : 20, n_estimators : 500  ---- Random Forest Regression rmse: 2.891011744099974\n",
      "depth : 30, n_estimators : 500  ---- Random Forest Regression rmse: 2.889727028521954\n",
      "depth : 2, n_estimators : 1000  ---- Random Forest Regression rmse: 3.375668847324904\n",
      "depth : 5, n_estimators : 1000  ---- Random Forest Regression rmse: 3.1089741406458655\n",
      "depth : 10, n_estimators : 1000  ---- Random Forest Regression rmse: 2.9411203056953337\n",
      "depth : 20, n_estimators : 1000  ---- Random Forest Regression rmse: 2.9092112875175054\n",
      "depth : 30, n_estimators : 1000  ---- Random Forest Regression rmse: 2.9132052217830653\n",
      "depth : 2, n_estimators : 2000  ---- Random Forest Regression rmse: 3.380301307800769\n",
      "depth : 5, n_estimators : 2000  ---- Random Forest Regression rmse: 3.118454744749138\n",
      "depth : 10, n_estimators : 2000  ---- Random Forest Regression rmse: 2.9466119196181344\n",
      "depth : 20, n_estimators : 2000  ---- Random Forest Regression rmse: 2.903183005673158\n",
      "depth : 30, n_estimators : 2000  ---- Random Forest Regression rmse: 2.9125157241899613\n"
     ]
    }
   ],
   "source": [
    "for n_est in [100, 200, 500, 1000, 2000]:\n",
    "    for depth in [2, 5, 10 , 20, 30]:\n",
    "        train_RF(n_est, depth)"
   ]
  },
  {
   "cell_type": "code",
   "execution_count": 112,
   "metadata": {
    "collapsed": true
   },
   "outputs": [],
   "source": [
    "rf_model = RandomForestRegressor(max_depth= 30, n_estimators = 200).fit(X_train , y_train)\n",
    "rf_pred_train = rf_model.predict(X_train)\n",
    "rf_pred= rf_model.predict(X_test)"
   ]
  },
  {
   "cell_type": "code",
   "execution_count": 113,
   "metadata": {},
   "outputs": [
    {
     "name": "stdout",
     "output_type": "stream",
     "text": [
      "Train Data\n",
      "Random Forest rmse: 1.0574666760455962\n",
      "Test Data\n",
      "Random Forest rmse: 2.9090124483265796\n"
     ]
    }
   ],
   "source": [
    "print(\"Train Data\")\n",
    "print('Random Forest rmse: {}'.format(sqrt(mean_squared_error(y_train,rf_pred_train))))\n",
    "print(\"Test Data\")\n",
    "print('Random Forest rmse: {}'.format(sqrt(mean_squared_error(y_test,rf_pred))))"
   ]
  },
  {
   "cell_type": "markdown",
   "metadata": {},
   "source": [
    "# 4. Comparison Of the Models"
   ]
  },
  {
   "cell_type": "code",
   "execution_count": 114,
   "metadata": {},
   "outputs": [
    {
     "name": "stdout",
     "output_type": "stream",
     "text": [
      "                       Model  rmse\n",
      "0             KNN Regression  2.75\n",
      "1      Ordinary Least Square  2.74\n",
      "2           Ridge Regression  2.66\n",
      "3           Lasso Regression  3.14\n",
      "4  Support Vector Regression  2.65\n",
      "5             Decision Trees  3.19\n",
      "6                       GBDT  3.19\n",
      "7              Random Forest  2.58\n"
     ]
    }
   ],
   "source": [
    "df = pd.DataFrame({\"rmse\":[2.75,2.74,2.66,3.14,2.65,3.19,3.19,2.58],\\\n",
    "                   \"Model\" : ['KNN Regression' ,'Ordinary Least Square','Ridge Regression',\\\n",
    "                             'Lasso Regression' , 'Support Vector Regression','Decision Trees', \"GBDT\", \"Random Forest\"]})\n",
    "print(df)"
   ]
  },
  {
   "cell_type": "markdown",
   "metadata": {},
   "source": [
    "** Looking at above comparison of models performance, we can say that 'Random Forest' is the best model based on root mean square value followed by 'Support Vector Regression' and 'Ridge Regression' So, we can pick any of those and perform modelling. All thre will give almost same results. **"
   ]
  },
  {
   "cell_type": "markdown",
   "metadata": {},
   "source": [
    "***************************************************************************************************************************************************************************************************************************************************"
   ]
  },
  {
   "cell_type": "markdown",
   "metadata": {
    "collapsed": true
   },
   "source": [
    "# 5. Loss to the company per month"
   ]
  },
  {
   "cell_type": "markdown",
   "metadata": {},
   "source": [
    "To Predict Loss, we need to come out with a mathematical formula that would use predefined values in the data provided to us : <br>\n",
    "<br>\n",
    "So, We use the formula : <br>\n",
    "<br>\n",
    "** Loss = ( Average work load per day * Absenteesim Time In Hours ) / Service Time ** <br>"
   ]
  },
  {
   "cell_type": "code",
   "execution_count": 115,
   "metadata": {},
   "outputs": [
    {
     "name": "stderr",
     "output_type": "stream",
     "text": [
      "/Users/akash/anaconda3/lib/python3.6/site-packages/ipykernel_launcher.py:3: SettingWithCopyWarning: \n",
      "A value is trying to be set on a copy of a slice from a DataFrame.\n",
      "Try using .loc[row_indexer,col_indexer] = value instead\n",
      "\n",
      "See the caveats in the documentation: http://pandas.pydata.org/pandas-docs/stable/indexing.html#indexing-view-versus-copy\n",
      "  This is separate from the ipykernel package so we can avoid doing imports until\n",
      "/Users/akash/anaconda3/lib/python3.6/site-packages/ipykernel_launcher.py:4: SettingWithCopyWarning: \n",
      "A value is trying to be set on a copy of a slice from a DataFrame.\n",
      "Try using .loc[row_indexer,col_indexer] = value instead\n",
      "\n",
      "See the caveats in the documentation: http://pandas.pydata.org/pandas-docs/stable/indexing.html#indexing-view-versus-copy\n",
      "  after removing the cwd from sys.path.\n"
     ]
    },
    {
     "data": {
      "text/html": [
       "<div>\n",
       "<style scoped>\n",
       "    .dataframe tbody tr th:only-of-type {\n",
       "        vertical-align: middle;\n",
       "    }\n",
       "\n",
       "    .dataframe tbody tr th {\n",
       "        vertical-align: top;\n",
       "    }\n",
       "\n",
       "    .dataframe thead th {\n",
       "        text-align: right;\n",
       "    }\n",
       "</style>\n",
       "<table border=\"1\" class=\"dataframe\">\n",
       "  <thead>\n",
       "    <tr style=\"text-align: right;\">\n",
       "      <th></th>\n",
       "      <th>Work_Load_Loss/Month</th>\n",
       "    </tr>\n",
       "  </thead>\n",
       "  <tbody>\n",
       "    <tr>\n",
       "      <th>No Absent</th>\n",
       "      <td>0</td>\n",
       "    </tr>\n",
       "    <tr>\n",
       "      <th>Janaury</th>\n",
       "      <td>4856265</td>\n",
       "    </tr>\n",
       "    <tr>\n",
       "      <th>Febraury</th>\n",
       "      <td>8003207</td>\n",
       "    </tr>\n",
       "    <tr>\n",
       "      <th>March</th>\n",
       "      <td>10174728</td>\n",
       "    </tr>\n",
       "    <tr>\n",
       "      <th>April</th>\n",
       "      <td>6350698</td>\n",
       "    </tr>\n",
       "    <tr>\n",
       "      <th>May</th>\n",
       "      <td>6242207</td>\n",
       "    </tr>\n",
       "    <tr>\n",
       "      <th>June</th>\n",
       "      <td>10254968</td>\n",
       "    </tr>\n",
       "    <tr>\n",
       "      <th>July</th>\n",
       "      <td>11650434</td>\n",
       "    </tr>\n",
       "    <tr>\n",
       "      <th>August</th>\n",
       "      <td>6400651</td>\n",
       "    </tr>\n",
       "    <tr>\n",
       "      <th>September</th>\n",
       "      <td>4327941</td>\n",
       "    </tr>\n",
       "    <tr>\n",
       "      <th>October</th>\n",
       "      <td>7227177</td>\n",
       "    </tr>\n",
       "    <tr>\n",
       "      <th>November</th>\n",
       "      <td>6337747</td>\n",
       "    </tr>\n",
       "    <tr>\n",
       "      <th>December</th>\n",
       "      <td>7692182</td>\n",
       "    </tr>\n",
       "  </tbody>\n",
       "</table>\n",
       "</div>"
      ],
      "text/plain": [
       "           Work_Load_Loss/Month\n",
       "No Absent                     0\n",
       "Janaury                 4856265\n",
       "Febraury                8003207\n",
       "March                  10174728\n",
       "April                   6350698\n",
       "May                     6242207\n",
       "June                   10254968\n",
       "July                   11650434\n",
       "August                  6400651\n",
       "September               4327941\n",
       "October                 7227177\n",
       "November                6337747\n",
       "December                7692182"
      ]
     },
     "execution_count": 115,
     "metadata": {},
     "output_type": "execute_result"
    }
   ],
   "source": [
    "Loss_df = data_loss[['Month_of_absence','Service_time','Work_load_Average/day_','Absenteeism_time_in_hours']]\n",
    "\n",
    "Loss_df['Loss'] = (Loss_df['Work_load_Average/day_'] * Loss_df['Absenteeism_time_in_hours']) / Loss_df['Service_time']\n",
    "Loss_df[\"Loss\"] = np.round(Loss_df[\"Loss\"]).astype('int64')\n",
    "\n",
    "\n",
    "No_absent = Loss_df[Loss_df['Month_of_absence'] == 0]['Loss'].sum()\n",
    "January = Loss_df[Loss_df['Month_of_absence'] == 1]['Loss'].sum()\n",
    "February = Loss_df[Loss_df['Month_of_absence'] == 2]['Loss'].sum()\n",
    "March = Loss_df[Loss_df['Month_of_absence'] == 3]['Loss'].sum()\n",
    "April = Loss_df[Loss_df['Month_of_absence'] == 4]['Loss'].sum()\n",
    "May = Loss_df[Loss_df['Month_of_absence'] == 5]['Loss'].sum()\n",
    "June = Loss_df[Loss_df['Month_of_absence'] == 6]['Loss'].sum()\n",
    "July = Loss_df[Loss_df['Month_of_absence'] == 7]['Loss'].sum()\n",
    "August = Loss_df[Loss_df['Month_of_absence'] == 8]['Loss'].sum()\n",
    "September = Loss_df[Loss_df['Month_of_absence'] == 9]['Loss'].sum()\n",
    "October = Loss_df[Loss_df['Month_of_absence'] == 10]['Loss'].sum()\n",
    "November = Loss_df[Loss_df['Month_of_absence'] == 11]['Loss'].sum()\n",
    "December = Loss_df[Loss_df['Month_of_absence'] == 12]['Loss'].sum()\n",
    "\n",
    "data_Loss = {'No Absent': No_absent, 'Janaury': January,'Febraury': February,'March': March,\n",
    "       'April': April, 'May': May,'June': June,'July': July,\n",
    "       'August': August,'September': September,'October': October,'November': November,\n",
    "       'December': December}\n",
    "WorkLoss = pd.DataFrame.from_dict(data_Loss, orient='index')\n",
    "WorkLoss.rename(index=str, columns={0: \"Work_Load_Loss/Month\"})\n"
   ]
  },
  {
   "cell_type": "markdown",
   "metadata": {},
   "source": [
    "** Looking at the above results, we can observe that most likely,the company would incur most of loss in the month of 'July', followed by 'March' and 'june'.**"
   ]
  },
  {
   "cell_type": "markdown",
   "metadata": {},
   "source": [
    "--------------------------------------------------------------------------------------------------------------------------------------------------------------------------------------------------------------------------------------------------------------------------------------------------------------------------------------------------------------------------------------------------------------------------------------------------------------------------------------------------------------------------------------------------------------------------------------------------------------------------------------------------------------------------------------------------------------------------------------------------"
   ]
  },
  {
   "cell_type": "code",
   "execution_count": null,
   "metadata": {
    "collapsed": true
   },
   "outputs": [],
   "source": []
  }
 ],
 "metadata": {
  "kernelspec": {
   "display_name": "Python 3",
   "language": "python",
   "name": "python3"
  },
  "language_info": {
   "codemirror_mode": {
    "name": "ipython",
    "version": 3
   },
   "file_extension": ".py",
   "mimetype": "text/x-python",
   "name": "python",
   "nbconvert_exporter": "python",
   "pygments_lexer": "ipython3",
   "version": "3.6.3"
  }
 },
 "nbformat": 4,
 "nbformat_minor": 2
}
